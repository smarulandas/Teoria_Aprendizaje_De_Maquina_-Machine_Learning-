{
  "nbformat": 4,
  "nbformat_minor": 0,
  "metadata": {
    "colab": {
      "provenance": [],
      "authorship_tag": "ABX9TyMAu/Z5s6uM6ZnxZpN0+Ne+",
      "include_colab_link": true
    },
    "kernelspec": {
      "name": "python3",
      "display_name": "Python 3"
    },
    "language_info": {
      "name": "python"
    }
  },
  "cells": [
    {
      "cell_type": "markdown",
      "metadata": {
        "id": "view-in-github",
        "colab_type": "text"
      },
      "source": [
        "<a href=\"https://colab.research.google.com/github/smarulandas/Teoria_Aprendizaje_De_Maquina_-Machine_Learning-/blob/main/DASHBOARD_PARCIAL_1_.ipynb\" target=\"_parent\"><img src=\"https://colab.research.google.com/assets/colab-badge.svg\" alt=\"Open In Colab\"/></a>"
      ]
    },
    {
      "cell_type": "markdown",
      "source": [
        "#**Descarga y carga automática de archivos .npy desde Google Drive**"
      ],
      "metadata": {
        "id": "2wmwTOPClhow"
      }
    },
    {
      "cell_type": "code",
      "execution_count": 1,
      "metadata": {
        "id": "46kIjA6glRLN",
        "colab": {
          "base_uri": "https://localhost:8080/"
        },
        "outputId": "787fb331-fd5e-4c19-8ff6-efd1cd8b335d"
      },
      "outputs": [
        {
          "output_type": "stream",
          "name": "stdout",
          "text": [
            "Descargando y_pred_GP.npy...\n"
          ]
        },
        {
          "output_type": "stream",
          "name": "stderr",
          "text": [
            "Downloading...\n",
            "From: https://drive.google.com/uc?id=1xgss8IMbjfps7M7Bbo46kZVLYs335DQv\n",
            "To: /content/y_pred_GP.npy\n",
            "100%|██████████| 7.16k/7.16k [00:00<00:00, 1.94MB/s]\n"
          ]
        },
        {
          "output_type": "stream",
          "name": "stdout",
          "text": [
            "Descargando y_pred_KR.npy...\n"
          ]
        },
        {
          "output_type": "stream",
          "name": "stderr",
          "text": [
            "Downloading...\n",
            "From: https://drive.google.com/uc?id=1JtyGpRIBDCvH4yWEPHcoy9pfhF_4W6X3\n",
            "To: /content/y_pred_KR.npy\n",
            "100%|██████████| 7.16k/7.16k [00:00<00:00, 12.0MB/s]\n"
          ]
        },
        {
          "output_type": "stream",
          "name": "stdout",
          "text": [
            "Descargando y_pred_RF.npy...\n"
          ]
        },
        {
          "output_type": "stream",
          "name": "stderr",
          "text": [
            "Downloading...\n",
            "From: https://drive.google.com/uc?id=1EAT_yNFCtpV0TYRqnknWRzeadqVAEwet\n",
            "To: /content/y_pred_RF.npy\n",
            "100%|██████████| 7.16k/7.16k [00:00<00:00, 12.3MB/s]\n"
          ]
        },
        {
          "output_type": "stream",
          "name": "stdout",
          "text": [
            "Descargando ytest.npy...\n"
          ]
        },
        {
          "output_type": "stream",
          "name": "stderr",
          "text": [
            "Downloading...\n",
            "From: https://drive.google.com/uc?id=16ZbamLkk2q4pIvJtrM0EaZow3ZKq6zFu\n",
            "To: /content/ytest.npy\n",
            "100%|██████████| 7.16k/7.16k [00:00<00:00, 12.5MB/s]"
          ]
        },
        {
          "output_type": "stream",
          "name": "stdout",
          "text": [
            "Todos los archivos se han descargado y cargado correctamente.\n"
          ]
        },
        {
          "output_type": "stream",
          "name": "stderr",
          "text": [
            "\n"
          ]
        }
      ],
      "source": [
        "# 1. INSTALAR LIBRERÍA gdown si no está instalada\n",
        "!pip install gdown -q\n",
        "\n",
        "# 2. IMPORTAR LIBRERÍAS\n",
        "import gdown\n",
        "import numpy as np\n",
        "\n",
        "# 3. DESCARGA DESDE GOOGLE DRIVE\n",
        "# Reemplaza los FILE_IDs con los de tus archivos en Google Drive\n",
        "files = {\n",
        "    \"y_pred_GP.npy\": \"1xgss8IMbjfps7M7Bbo46kZVLYs335DQv\",      # ID de ytest.npy\n",
        "    \"y_pred_KR.npy\": \"1JtyGpRIBDCvH4yWEPHcoy9pfhF_4W6X3\",  # ID de y_pred_RF.npy\n",
        "    \"y_pred_RF.npy\": \"1EAT_yNFCtpV0TYRqnknWRzeadqVAEwet\",  # ID de y_pred_BR.npy\n",
        "    \"ytest.npy\": \"16ZbamLkk2q4pIvJtrM0EaZow3ZKq6zFu\" # ID de y_pred_EN.npy\n",
        "}\n",
        "\n",
        "for filename, file_id in files.items():\n",
        "    url = f\"https://drive.google.com/uc?id={file_id}\"\n",
        "    print(f\"Descargando {filename}...\")\n",
        "    gdown.download(url, filename, quiet=False)\n",
        "\n",
        "# 4. CARGA DE ARCHIVOS .NPY\n",
        "try:\n",
        "    ytest = np.load(\"ytest.npy\")\n",
        "    y_pred_GP = np.load(\"y_pred_GP.npy\")\n",
        "    y_pred_KR = np.load(\"y_pred_KR.npy\")\n",
        "    y_pred_RF = np.load(\"y_pred_RF.npy\")\n",
        "\n",
        "    print(\"Todos los archivos se han descargado y cargado correctamente.\")\n",
        "except FileNotFoundError as e:\n",
        "    print(f\"Error: Archivo no encontrado. Asegúrate de que los IDs sean correctos y los archivos existan. {e}\")\n",
        "except Exception as e:\n",
        "    print(f\"Ocurrió un error al cargar los archivos: {e}\")"
      ]
    },
    {
      "cell_type": "markdown",
      "source": [
        "#**Instalación de streamlit**"
      ],
      "metadata": {
        "id": "q6-q888IqDBb"
      }
    },
    {
      "cell_type": "code",
      "source": [
        "!pip install streamlit"
      ],
      "metadata": {
        "id": "EVRF1PLWnqMN",
        "colab": {
          "base_uri": "https://localhost:8080/"
        },
        "outputId": "bac96c99-d20a-402a-ff3b-28e5b2029f18"
      },
      "execution_count": 2,
      "outputs": [
        {
          "output_type": "stream",
          "name": "stdout",
          "text": [
            "Collecting streamlit\n",
            "  Downloading streamlit-1.45.1-py3-none-any.whl.metadata (8.9 kB)\n",
            "Requirement already satisfied: altair<6,>=4.0 in /usr/local/lib/python3.11/dist-packages (from streamlit) (5.5.0)\n",
            "Requirement already satisfied: blinker<2,>=1.5.0 in /usr/local/lib/python3.11/dist-packages (from streamlit) (1.9.0)\n",
            "Requirement already satisfied: cachetools<6,>=4.0 in /usr/local/lib/python3.11/dist-packages (from streamlit) (5.5.2)\n",
            "Requirement already satisfied: click<9,>=7.0 in /usr/local/lib/python3.11/dist-packages (from streamlit) (8.2.1)\n",
            "Requirement already satisfied: numpy<3,>=1.23 in /usr/local/lib/python3.11/dist-packages (from streamlit) (2.0.2)\n",
            "Requirement already satisfied: packaging<25,>=20 in /usr/local/lib/python3.11/dist-packages (from streamlit) (24.2)\n",
            "Requirement already satisfied: pandas<3,>=1.4.0 in /usr/local/lib/python3.11/dist-packages (from streamlit) (2.2.2)\n",
            "Requirement already satisfied: pillow<12,>=7.1.0 in /usr/local/lib/python3.11/dist-packages (from streamlit) (11.2.1)\n",
            "Requirement already satisfied: protobuf<7,>=3.20 in /usr/local/lib/python3.11/dist-packages (from streamlit) (5.29.4)\n",
            "Requirement already satisfied: pyarrow>=7.0 in /usr/local/lib/python3.11/dist-packages (from streamlit) (18.1.0)\n",
            "Requirement already satisfied: requests<3,>=2.27 in /usr/local/lib/python3.11/dist-packages (from streamlit) (2.32.3)\n",
            "Requirement already satisfied: tenacity<10,>=8.1.0 in /usr/local/lib/python3.11/dist-packages (from streamlit) (9.1.2)\n",
            "Requirement already satisfied: toml<2,>=0.10.1 in /usr/local/lib/python3.11/dist-packages (from streamlit) (0.10.2)\n",
            "Requirement already satisfied: typing-extensions<5,>=4.4.0 in /usr/local/lib/python3.11/dist-packages (from streamlit) (4.13.2)\n",
            "Collecting watchdog<7,>=2.1.5 (from streamlit)\n",
            "  Downloading watchdog-6.0.0-py3-none-manylinux2014_x86_64.whl.metadata (44 kB)\n",
            "\u001b[2K     \u001b[90m━━━━━━━━━━━━━━━━━━━━━━━━━━━━━━━━━━━━━━━━\u001b[0m \u001b[32m44.3/44.3 kB\u001b[0m \u001b[31m1.8 MB/s\u001b[0m eta \u001b[36m0:00:00\u001b[0m\n",
            "\u001b[?25hRequirement already satisfied: gitpython!=3.1.19,<4,>=3.0.7 in /usr/local/lib/python3.11/dist-packages (from streamlit) (3.1.44)\n",
            "Collecting pydeck<1,>=0.8.0b4 (from streamlit)\n",
            "  Downloading pydeck-0.9.1-py2.py3-none-any.whl.metadata (4.1 kB)\n",
            "Requirement already satisfied: tornado<7,>=6.0.3 in /usr/local/lib/python3.11/dist-packages (from streamlit) (6.4.2)\n",
            "Requirement already satisfied: jinja2 in /usr/local/lib/python3.11/dist-packages (from altair<6,>=4.0->streamlit) (3.1.6)\n",
            "Requirement already satisfied: jsonschema>=3.0 in /usr/local/lib/python3.11/dist-packages (from altair<6,>=4.0->streamlit) (4.23.0)\n",
            "Requirement already satisfied: narwhals>=1.14.2 in /usr/local/lib/python3.11/dist-packages (from altair<6,>=4.0->streamlit) (1.40.0)\n",
            "Requirement already satisfied: gitdb<5,>=4.0.1 in /usr/local/lib/python3.11/dist-packages (from gitpython!=3.1.19,<4,>=3.0.7->streamlit) (4.0.12)\n",
            "Requirement already satisfied: python-dateutil>=2.8.2 in /usr/local/lib/python3.11/dist-packages (from pandas<3,>=1.4.0->streamlit) (2.9.0.post0)\n",
            "Requirement already satisfied: pytz>=2020.1 in /usr/local/lib/python3.11/dist-packages (from pandas<3,>=1.4.0->streamlit) (2025.2)\n",
            "Requirement already satisfied: tzdata>=2022.7 in /usr/local/lib/python3.11/dist-packages (from pandas<3,>=1.4.0->streamlit) (2025.2)\n",
            "Requirement already satisfied: charset-normalizer<4,>=2 in /usr/local/lib/python3.11/dist-packages (from requests<3,>=2.27->streamlit) (3.4.2)\n",
            "Requirement already satisfied: idna<4,>=2.5 in /usr/local/lib/python3.11/dist-packages (from requests<3,>=2.27->streamlit) (3.10)\n",
            "Requirement already satisfied: urllib3<3,>=1.21.1 in /usr/local/lib/python3.11/dist-packages (from requests<3,>=2.27->streamlit) (2.4.0)\n",
            "Requirement already satisfied: certifi>=2017.4.17 in /usr/local/lib/python3.11/dist-packages (from requests<3,>=2.27->streamlit) (2025.4.26)\n",
            "Requirement already satisfied: smmap<6,>=3.0.1 in /usr/local/lib/python3.11/dist-packages (from gitdb<5,>=4.0.1->gitpython!=3.1.19,<4,>=3.0.7->streamlit) (5.0.2)\n",
            "Requirement already satisfied: MarkupSafe>=2.0 in /usr/local/lib/python3.11/dist-packages (from jinja2->altair<6,>=4.0->streamlit) (3.0.2)\n",
            "Requirement already satisfied: attrs>=22.2.0 in /usr/local/lib/python3.11/dist-packages (from jsonschema>=3.0->altair<6,>=4.0->streamlit) (25.3.0)\n",
            "Requirement already satisfied: jsonschema-specifications>=2023.03.6 in /usr/local/lib/python3.11/dist-packages (from jsonschema>=3.0->altair<6,>=4.0->streamlit) (2025.4.1)\n",
            "Requirement already satisfied: referencing>=0.28.4 in /usr/local/lib/python3.11/dist-packages (from jsonschema>=3.0->altair<6,>=4.0->streamlit) (0.36.2)\n",
            "Requirement already satisfied: rpds-py>=0.7.1 in /usr/local/lib/python3.11/dist-packages (from jsonschema>=3.0->altair<6,>=4.0->streamlit) (0.25.1)\n",
            "Requirement already satisfied: six>=1.5 in /usr/local/lib/python3.11/dist-packages (from python-dateutil>=2.8.2->pandas<3,>=1.4.0->streamlit) (1.17.0)\n",
            "Downloading streamlit-1.45.1-py3-none-any.whl (9.9 MB)\n",
            "\u001b[2K   \u001b[90m━━━━━━━━━━━━━━━━━━━━━━━━━━━━━━━━━━━━━━━━\u001b[0m \u001b[32m9.9/9.9 MB\u001b[0m \u001b[31m72.8 MB/s\u001b[0m eta \u001b[36m0:00:00\u001b[0m\n",
            "\u001b[?25hDownloading pydeck-0.9.1-py2.py3-none-any.whl (6.9 MB)\n",
            "\u001b[2K   \u001b[90m━━━━━━━━━━━━━━━━━━━━━━━━━━━━━━━━━━━━━━━━\u001b[0m \u001b[32m6.9/6.9 MB\u001b[0m \u001b[31m94.7 MB/s\u001b[0m eta \u001b[36m0:00:00\u001b[0m\n",
            "\u001b[?25hDownloading watchdog-6.0.0-py3-none-manylinux2014_x86_64.whl (79 kB)\n",
            "\u001b[2K   \u001b[90m━━━━━━━━━━━━━━━━━━━━━━━━━━━━━━━━━━━━━━━━\u001b[0m \u001b[32m79.1/79.1 kB\u001b[0m \u001b[31m7.1 MB/s\u001b[0m eta \u001b[36m0:00:00\u001b[0m\n",
            "\u001b[?25hInstalling collected packages: watchdog, pydeck, streamlit\n",
            "Successfully installed pydeck-0.9.1 streamlit-1.45.1 watchdog-6.0.0\n"
          ]
        }
      ]
    },
    {
      "cell_type": "code",
      "source": [
        "!npm install -g localtunnel"
      ],
      "metadata": {
        "colab": {
          "base_uri": "https://localhost:8080/"
        },
        "id": "b9dFyIYWqEym",
        "outputId": "9b20ccf9-445a-4d53-9ac5-4c71848a348a"
      },
      "execution_count": 3,
      "outputs": [
        {
          "output_type": "stream",
          "name": "stdout",
          "text": [
            "\u001b[1G\u001b[0K⠙\u001b[1G\u001b[0K⠹\u001b[1G\u001b[0K⠸\u001b[1G\u001b[0K⠼\u001b[1G\u001b[0K⠴\u001b[1G\u001b[0K⠦\u001b[1G\u001b[0K⠧\u001b[1G\u001b[0K⠇\u001b[1G\u001b[0K⠏\u001b[1G\u001b[0K⠋\u001b[1G\u001b[0K⠙\u001b[1G\u001b[0K⠹\u001b[1G\u001b[0K⠸\u001b[1G\u001b[0K⠼\u001b[1G\u001b[0K⠴\u001b[1G\u001b[0K⠦\u001b[1G\u001b[0K⠧\u001b[1G\u001b[0K⠇\u001b[1G\u001b[0K⠏\u001b[1G\u001b[0K⠋\u001b[1G\u001b[0K⠙\u001b[1G\u001b[0K⠹\u001b[1G\u001b[0K⠸\u001b[1G\u001b[0K⠼\u001b[1G\u001b[0K⠴\u001b[1G\u001b[0K⠦\u001b[1G\u001b[0K⠧\u001b[1G\u001b[0K\n",
            "added 22 packages in 3s\n",
            "\u001b[1G\u001b[0K⠧\u001b[1G\u001b[0K\n",
            "\u001b[1G\u001b[0K⠧\u001b[1G\u001b[0K3 packages are looking for funding\n",
            "\u001b[1G\u001b[0K⠧\u001b[1G\u001b[0K  run `npm fund` for details\n",
            "\u001b[1G\u001b[0K⠧\u001b[1G\u001b[0K"
          ]
        }
      ]
    },
    {
      "cell_type": "markdown",
      "source": [
        "#**Crear archivo dashboard_regresion.py para visualización con Streamlit**\n",
        "\n",
        "##Prompt:\n",
        "Crea un dashboard en Streamlit para comparar tres modelos de regresión (RandomForest, LinearRegression y ElasticNet) que cargue las predicciones desde archivos .npy (ytest.npy, y_pred_RF.npy, y_pred_LR.npy, y_pred_Elastic.npy). El dashboard debe incluir: (1) una tabla comparativa de métricas (MAE, MSE, R², MAPE) con highlight de los mejores valores, (2) gráficos interactivos de barras para comparar métricas seleccionables, (3) scatter plots de predicciones vs valores reales con línea de referencia, (4) visualización de hiperparámetros óptimos por modelo, y (5) un sidebar con opciones. Usa Streamlit, Plotly y Matplotlib, con diseño responsive y estilo profesional. Guarda el código en dashboard_regresion.py con %%writefile."
      ],
      "metadata": {
        "id": "DmvHBBEKqKhR"
      }
    },
    {
      "cell_type": "code",
      "source": [
        "%%writefile dashboard_regresion.py\n",
        "import streamlit as st\n",
        "import pandas as pd\n",
        "import matplotlib.pyplot as plt\n",
        "import plotly.express as px\n",
        "import numpy as np\n",
        "\n",
        "# Cargar predicciones y ytest desde archivos .npy\n",
        "\n",
        "ytest = np.load(\"ytest.npy\")\n",
        "y_pred_GP = np.load(\"y_pred_GP.npy\")\n",
        "y_pred_KR = np.load(\"y_pred_KR.npy\")\n",
        "y_pred_RF = np.load(\"y_pred_RF.npy\")\n",
        "\n",
        "# Configuración de la página\n",
        "st.set_page_config(page_title=\"Análisis de Modelos de Regresión\", layout=\"wide\")\n",
        "st.title(\"Dashboard Comparativo: Modelos de Regresión\")\n",
        "\n",
        "metrics = {\n",
        "    \"Kernel RIDGE\": {\"MAE\": 14070.128556, \"MSE\": 515477999.1050, \"R2\": 0.926669, \"MAPE\": 8.027819},\n",
        "    \"RandomForest\": {\"MAE\": 14472.464785, \"MSE\": 593651748.4633, \"R2\": 0.915548, \"MAPE\": 8.428997},\n",
        "    \"Gaussian Process Regressor\": {\"MAE\": 15956.151822, \"MSE\": 647026811.7451, \"R2\": 0.907955, \"MAPE\": 9.580985}\n",
        "}\n",
        "\n",
        "# --- Página Principal ---\n",
        "st.header(\"Resumen Comparativo\")\n",
        "df_metrics = pd.DataFrame(metrics).T\n",
        "st.dataframe(df_metrics.style.highlight_min(axis=0), height=200)\n",
        "\n",
        "# Gráfico de métricas comparativas\n",
        "metric_option = st.selectbox(\"Selecciona una métrica para comparar:\", [\"MAE\", \"MSE\", \"R2\", \"MAPE\"])\n",
        "fig = px.bar(df_metrics, y=metric_option, title=f\"Comparación de {metric_option} entre Modelos\")\n",
        "st.plotly_chart(fig, use_container_width=True)\n",
        "\n",
        "# --- Pestañas por Modelo ---\n",
        "tab1, tab2, tab3 = st.tabs([\"Kernel RIDGE\", \"RandomForest\", \"Gaussian Process Regressor\"])\n",
        "\n",
        "with tab1:\n",
        "    st.header(\"Kernel RIDGE\")\n",
        "    col1, col2 = st.columns(2)\n",
        "    with col1:\n",
        "        st.subheader(\"Mejores Hiperparámetros\")\n",
        "        st.json({\n",
        "            \"alpha\": 0.055530,\n",
        "            \"gamma\": 0.1000\n",
        "        })\n",
        "    with col2:\n",
        "        st.subheader(\"Métricas\")\n",
        "        st.write(df_metrics.loc[\"Kernel RIDGE\"].to_frame().T)\n",
        "\n",
        "    fig, ax = plt.subplots()\n",
        "    ax.scatter(ytest, y_pred_KR, alpha=0.5)\n",
        "    ax.plot([ytest.min(), ytest.max()], [ytest.min(), ytest.max()], 'r--')\n",
        "    ax.set_title(\"Predicciones vs Valores Reales (Kernel RIDGE)\")\n",
        "    ax.set_xlabel(\"Valores Reales\")\n",
        "    ax.set_ylabel(\"Valores Predichos\")\n",
        "    st.pyplot(fig)\n",
        "\n",
        "with tab2:\n",
        "    st.header(\"RandomForest\")\n",
        "    st.subheader(\"Métricas\")\n",
        "    st.write(df_metrics.loc[\"RandomForest\"].to_frame().T)\n",
        "\n",
        "    with col1:\n",
        "        st.subheader(\"Mejores Hiperparámetros\")\n",
        "        st.json({\n",
        "            \"n_estimators\": 296,\n",
        "            \"max_depth\": 50,\n",
        "            \"min_samples_split\" : 5,\n",
        "            \"min_samples_leaf\": 1,\n",
        "            \"max_features\": \"sqrt\"\n",
        "        })\n",
        "\n",
        "    # Residual plot (simulado)\n",
        "    fig, ax = plt.subplots()\n",
        "    ax.scatter(ytest, y_pred_RF, alpha=0.5)\n",
        "    ax.plot([ytest.min(), ytest.max()], [ytest.min(), ytest.max()], 'r--')\n",
        "    ax.set_title(\"Valores Reales vs Valores Predichos\")\n",
        "    ax.set_xlabel(\"Valores Reales\")\n",
        "    ax.set_ylabel(\"Valores Predichos\")\n",
        "    st.pyplot(fig)\n",
        "\n",
        "with tab3:\n",
        "    st.header(\"Gaussian Process Regressor\")\n",
        "    col1, col2 = st.columns(2)\n",
        "    with col1:\n",
        "        st.subheader(\"Mejores Parámetros\")\n",
        "        st.json({\n",
        "            \"alpha\":0.0476,\n",
        "            \"normalize_y\": 1.0,\n",
        "            \"copy_X_train\": 0.0\n",
        "        })\n",
        "    with col2:\n",
        "        st.subheader(\"Métricas\")\n",
        "        st.write(df_metrics.loc[\"Gaussian Process Regressor\"].to_frame().T)\n",
        "\n",
        "    fig, ax = plt.subplots()\n",
        "    ax.scatter(ytest, y_pred_GP, alpha=0.5)\n",
        "    ax.plot([ytest.min(), ytest.max()], [ytest.min(), ytest.max()], 'r--')\n",
        "    ax.set_title(\"Predicciones vs Valores Reales (Gaussian Process Regressor)\")\n",
        "    ax.set_xlabel(\"Valores Reales\")\n",
        "    ax.set_ylabel(\"Valores Predichos\")\n",
        "    st.pyplot(fig)\n",
        "\n",
        "st.markdown(\"---\")\n",
        "st.caption(\"Dashboard creado por Samuel Marulanda Salazar | Datos actualizados: 2025\")"
      ],
      "metadata": {
        "id": "bbikHzVzrKMt",
        "colab": {
          "base_uri": "https://localhost:8080/"
        },
        "outputId": "9aef7ee2-27cc-40cf-bd97-7618625d235a"
      },
      "execution_count": 8,
      "outputs": [
        {
          "output_type": "stream",
          "name": "stdout",
          "text": [
            "Overwriting dashboard_regresion.py\n"
          ]
        }
      ]
    },
    {
      "cell_type": "markdown",
      "source": [
        "#**Obtener Contraseña del Túnel (IP Pública) para Localtunnel**"
      ],
      "metadata": {
        "id": "R_ibgvQdCawd"
      }
    },
    {
      "cell_type": "code",
      "source": [
        "!curl ifconfig.me"
      ],
      "metadata": {
        "colab": {
          "base_uri": "https://localhost:8080/"
        },
        "id": "xpi9Gdmx9aGw",
        "outputId": "bda2e372-f718-4b66-9576-7edbd318f326"
      },
      "execution_count": 9,
      "outputs": [
        {
          "output_type": "stream",
          "name": "stdout",
          "text": [
            "34.42.101.224"
          ]
        }
      ]
    },
    {
      "cell_type": "markdown",
      "source": [
        "#**Lanzar Aplicación Streamlit en Background y Crear Túnel Público con Localtunnel**"
      ],
      "metadata": {
        "id": "Q-GcSpeHCfaI"
      }
    },
    {
      "cell_type": "code",
      "source": [
        "import threading\n",
        "import time\n",
        "import os\n",
        "\n",
        "# Ejecutar Streamlit en segundo plano\n",
        "def run_streamlit():\n",
        "    os.system('streamlit run dashboard_regresion.py')\n",
        "\n",
        "thread = threading.Thread(target=run_streamlit)\n",
        "thread.start()\n",
        "\n",
        "# Esperar a que Streamlit levante el servidor\n",
        "time.sleep(5)\n",
        "\n",
        "# Crear túnel con localtunnel\n",
        "!npx localtunnel --port 8501"
      ],
      "metadata": {
        "colab": {
          "base_uri": "https://localhost:8080/"
        },
        "id": "HXOLL-0WCc68",
        "outputId": "bc0af272-d741-4696-e156-93221ff67680"
      },
      "execution_count": null,
      "outputs": [
        {
          "output_type": "stream",
          "name": "stdout",
          "text": [
            "\u001b[1G\u001b[0K⠙\u001b[1G\u001b[0K⠹\u001b[1G\u001b[0K⠸\u001b[1G\u001b[0K⠼\u001b[1G\u001b[0K⠴\u001b[1G\u001b[0Kyour url is: https://big-walls-smell.loca.lt\n"
          ]
        }
      ]
    },
    {
      "cell_type": "code",
      "source": [],
      "metadata": {
        "id": "fJG6yQa-CjlA"
      },
      "execution_count": null,
      "outputs": []
    }
  ]
}