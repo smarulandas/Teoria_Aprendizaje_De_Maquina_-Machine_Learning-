{
 "cells": [
  {
   "cell_type": "markdown",
   "id": "02338886",
   "metadata": {
    "papermill": {
     "duration": 0.005441,
     "end_time": "2025-07-10T13:18:34.339927",
     "exception": false,
     "start_time": "2025-07-10T13:18:34.334486",
     "status": "completed"
    },
    "tags": []
   },
   "source": [
    "**Instalar dependencias necesarias**\n"
   ]
  },
  {
   "cell_type": "code",
   "execution_count": 1,
   "id": "f0ab0386",
   "metadata": {
    "execution": {
     "iopub.execute_input": "2025-07-10T13:18:34.349871Z",
     "iopub.status.busy": "2025-07-10T13:18:34.349637Z",
     "iopub.status.idle": "2025-07-10T13:19:52.376639Z",
     "shell.execute_reply": "2025-07-10T13:19:52.375856Z"
    },
    "papermill": {
     "duration": 78.03361,
     "end_time": "2025-07-10T13:19:52.378135",
     "exception": false,
     "start_time": "2025-07-10T13:18:34.344525",
     "status": "completed"
    },
    "tags": []
   },
   "outputs": [
    {
     "name": "stdout",
     "output_type": "stream",
     "text": [
      "\u001b[2K     \u001b[90m━━━━━━━━━━━━━━━━━━━━━━━━━━━━━━━━━━━━━━━━\u001b[0m \u001b[32m624.4/624.4 kB\u001b[0m \u001b[31m9.6 MB/s\u001b[0m eta \u001b[36m0:00:00\u001b[0m\r\n",
      "\u001b[?25h  Installing build dependencies ... \u001b[?25l\u001b[?25hdone\r\n",
      "  Getting requirements to build wheel ... \u001b[?25l\u001b[?25hdone\r\n",
      "  Preparing metadata (pyproject.toml) ... \u001b[?25l\u001b[?25hdone\r\n",
      "\u001b[2K   \u001b[90m━━━━━━━━━━━━━━━━━━━━━━━━━━━━━━━━━━━━━━━━\u001b[0m \u001b[32m13.7/13.7 MB\u001b[0m \u001b[31m86.8 MB/s\u001b[0m eta \u001b[36m0:00:00\u001b[0m\r\n",
      "\u001b[2K   \u001b[90m━━━━━━━━━━━━━━━━━━━━━━━━━━━━━━━━━━━━━━━━\u001b[0m \u001b[32m6.4/6.4 MB\u001b[0m \u001b[31m78.9 MB/s\u001b[0m eta \u001b[36m0:00:00\u001b[0m\r\n",
      "\u001b[2K   \u001b[90m━━━━━━━━━━━━━━━━━━━━━━━━━━━━━━━━━━━━━━━━\u001b[0m \u001b[32m475.3/475.3 MB\u001b[0m \u001b[31m3.2 MB/s\u001b[0m eta \u001b[36m0:00:00\u001b[0m\r\n",
      "\u001b[2K   \u001b[90m━━━━━━━━━━━━━━━━━━━━━━━━━━━━━━━━━━━━━━━━\u001b[0m \u001b[32m6.9/6.9 MB\u001b[0m \u001b[31m107.2 MB/s\u001b[0m eta \u001b[36m0:00:00\u001b[0m\r\n",
      "\u001b[2K   \u001b[90m━━━━━━━━━━━━━━━━━━━━━━━━━━━━━━━━━━━━━━━━\u001b[0m \u001b[32m78.4/78.4 kB\u001b[0m \u001b[31m5.9 MB/s\u001b[0m eta \u001b[36m0:00:00\u001b[0m\r\n",
      "\u001b[2K   \u001b[90m━━━━━━━━━━━━━━━━━━━━━━━━━━━━━━━━━━━━━━━━\u001b[0m \u001b[32m48.4/48.4 kB\u001b[0m \u001b[31m4.1 MB/s\u001b[0m eta \u001b[36m0:00:00\u001b[0m\r\n",
      "\u001b[2K   \u001b[90m━━━━━━━━━━━━━━━━━━━━━━━━━━━━━━━━━━━━━━━━\u001b[0m \u001b[32m1.4/1.4 MB\u001b[0m \u001b[31m57.6 MB/s\u001b[0m eta \u001b[36m0:00:00\u001b[0m\r\n",
      "\u001b[2K   \u001b[90m━━━━━━━━━━━━━━━━━━━━━━━━━━━━━━━━━━━━━━━━\u001b[0m \u001b[32m1.7/1.7 MB\u001b[0m \u001b[31m75.4 MB/s\u001b[0m eta \u001b[36m0:00:00\u001b[0m\r\n",
      "\u001b[2K   \u001b[90m━━━━━━━━━━━━━━━━━━━━━━━━━━━━━━━━━━━━━━━━\u001b[0m \u001b[32m2.2/2.2 MB\u001b[0m \u001b[31m78.2 MB/s\u001b[0m eta \u001b[36m0:00:00\u001b[0m\r\n",
      "\u001b[2K   \u001b[90m━━━━━━━━━━━━━━━━━━━━━━━━━━━━━━━━━━━━━━━━\u001b[0m \u001b[32m5.5/5.5 MB\u001b[0m \u001b[31m98.0 MB/s\u001b[0m eta \u001b[36m0:00:00\u001b[0m\r\n",
      "\u001b[2K   \u001b[90m━━━━━━━━━━━━━━━━━━━━━━━━━━━━━━━━━━━━━━━━\u001b[0m \u001b[32m442.0/442.0 kB\u001b[0m \u001b[31m30.9 MB/s\u001b[0m eta \u001b[36m0:00:00\u001b[0m\r\n",
      "\u001b[?25h  Building wheel for gym (pyproject.toml) ... \u001b[?25l\u001b[?25hdone\r\n",
      "\u001b[31mERROR: pip's dependency resolver does not currently take into account all the packages that are installed. This behaviour is the source of the following dependency conflicts.\r\n",
      "typing-inspection 0.4.0 requires typing-extensions>=4.12.0, but you have typing-extensions 4.5.0 which is incompatible.\r\n",
      "pyopenssl 25.0.0 requires typing-extensions>=4.9; python_version < \"3.13\" and python_version >= \"3.8\", but you have typing-extensions 4.5.0 which is incompatible.\r\n",
      "pydantic-core 2.33.2 requires typing-extensions!=4.7.0,>=4.6.0, but you have typing-extensions 4.5.0 which is incompatible.\r\n",
      "pydantic 2.11.4 requires typing-extensions>=4.12.2, but you have typing-extensions 4.5.0 which is incompatible.\r\n",
      "datasets 3.6.0 requires fsspec[http]<=2025.3.0,>=2023.1.0, but you have fsspec 2025.3.2 which is incompatible.\r\n",
      "docstring-to-markdown 0.17 requires typing_extensions>=4.6, but you have typing-extensions 4.5.0 which is incompatible.\r\n",
      "tensorflow-decision-forests 1.11.0 requires tensorflow==2.18.0, but you have tensorflow 2.15.1 which is incompatible.\r\n",
      "alembic 1.15.2 requires typing-extensions>=4.12, but you have typing-extensions 4.5.0 which is incompatible.\r\n",
      "plum-dispatch 2.5.7 requires typing-extensions>=4.9.0, but you have typing-extensions 4.5.0 which is incompatible.\r\n",
      "jax 0.5.2 requires ml_dtypes>=0.4.0, but you have ml-dtypes 0.3.2 which is incompatible.\r\n",
      "dopamine-rl 4.1.2 requires gymnasium>=1.0.0, but you have gymnasium 0.29.0 which is incompatible.\r\n",
      "sqlalchemy 2.0.40 requires typing-extensions>=4.6.0, but you have typing-extensions 4.5.0 which is incompatible.\r\n",
      "ibis-framework 9.5.0 requires toolz<1,>=0.11, but you have toolz 1.0.0 which is incompatible.\r\n",
      "langchain-core 0.3.50 requires packaging<25,>=23.2, but you have packaging 25.0 which is incompatible.\r\n",
      "langchain-core 0.3.50 requires typing-extensions>=4.7, but you have typing-extensions 4.5.0 which is incompatible.\r\n",
      "openai 1.70.0 requires typing-extensions<5,>=4.11, but you have typing-extensions 4.5.0 which is incompatible.\r\n",
      "bigframes 1.42.0 requires rich<14,>=12.4.4, but you have rich 14.0.0 which is incompatible.\r\n",
      "torch 2.6.0+cu124 requires nvidia-cublas-cu12==12.4.5.8; platform_system == \"Linux\" and platform_machine == \"x86_64\", but you have nvidia-cublas-cu12 12.9.0.13 which is incompatible.\r\n",
      "torch 2.6.0+cu124 requires nvidia-cudnn-cu12==9.1.0.70; platform_system == \"Linux\" and platform_machine == \"x86_64\", but you have nvidia-cudnn-cu12 9.3.0.75 which is incompatible.\r\n",
      "torch 2.6.0+cu124 requires nvidia-cufft-cu12==11.2.1.3; platform_system == \"Linux\" and platform_machine == \"x86_64\", but you have nvidia-cufft-cu12 11.4.0.6 which is incompatible.\r\n",
      "torch 2.6.0+cu124 requires nvidia-curand-cu12==10.3.5.147; platform_system == \"Linux\" and platform_machine == \"x86_64\", but you have nvidia-curand-cu12 10.3.10.19 which is incompatible.\r\n",
      "torch 2.6.0+cu124 requires nvidia-cusolver-cu12==11.6.1.9; platform_system == \"Linux\" and platform_machine == \"x86_64\", but you have nvidia-cusolver-cu12 11.7.4.40 which is incompatible.\r\n",
      "torch 2.6.0+cu124 requires nvidia-cusparse-cu12==12.3.1.170; platform_system == \"Linux\" and platform_machine == \"x86_64\", but you have nvidia-cusparse-cu12 12.5.9.5 which is incompatible.\r\n",
      "torch 2.6.0+cu124 requires nvidia-nvjitlink-cu12==12.4.127; platform_system == \"Linux\" and platform_machine == \"x86_64\", but you have nvidia-nvjitlink-cu12 12.9.41 which is incompatible.\r\n",
      "torch 2.6.0+cu124 requires typing-extensions>=4.10.0, but you have typing-extensions 4.5.0 which is incompatible.\r\n",
      "pydrive2 1.21.3 requires cryptography<44, but you have cryptography 44.0.3 which is incompatible.\r\n",
      "pydrive2 1.21.3 requires pyOpenSSL<=24.2.1,>=19.1.0, but you have pyopenssl 25.0.0 which is incompatible.\r\n",
      "typeguard 4.4.2 requires typing_extensions>=4.10.0, but you have typing-extensions 4.5.0 which is incompatible.\r\n",
      "nibabel 5.3.2 requires typing-extensions>=4.6; python_version < \"3.13\", but you have typing-extensions 4.5.0 which is incompatible.\r\n",
      "tf-keras 2.18.0 requires tensorflow<2.19,>=2.18, but you have tensorflow 2.15.1 which is incompatible.\r\n",
      "tensorflow-text 2.18.1 requires tensorflow<2.19,>=2.18.0, but you have tensorflow 2.15.1 which is incompatible.\r\n",
      "altair 5.5.0 requires typing-extensions>=4.10.0; python_version < \"3.14\", but you have typing-extensions 4.5.0 which is incompatible.\r\n",
      "google-genai 1.9.0 requires typing-extensions<5.0.0,>=4.11.0, but you have typing-extensions 4.5.0 which is incompatible.\r\n",
      "opentelemetry-api 1.31.1 requires importlib-metadata<8.7.0,>=6.0, but you have importlib-metadata 8.7.0 which is incompatible.\u001b[0m\u001b[31m\r\n",
      "\u001b[0m"
     ]
    }
   ],
   "source": [
    "!pip install -q tf-agents[reverb]\n"
   ]
  },
  {
   "cell_type": "markdown",
   "id": "b5100d64",
   "metadata": {
    "papermill": {
     "duration": 0.008979,
     "end_time": "2025-07-10T13:19:52.397117",
     "exception": false,
     "start_time": "2025-07-10T13:19:52.388138",
     "status": "completed"
    },
    "tags": []
   },
   "source": [
    "Verificar que si se descargo "
   ]
  },
  {
   "cell_type": "code",
   "execution_count": 2,
   "id": "c7ab9007",
   "metadata": {
    "execution": {
     "iopub.execute_input": "2025-07-10T13:19:52.416327Z",
     "iopub.status.busy": "2025-07-10T13:19:52.416074Z",
     "iopub.status.idle": "2025-07-10T13:20:02.344291Z",
     "shell.execute_reply": "2025-07-10T13:20:02.343416Z"
    },
    "papermill": {
     "duration": 9.939393,
     "end_time": "2025-07-10T13:20:02.345597",
     "exception": false,
     "start_time": "2025-07-10T13:19:52.406204",
     "status": "completed"
    },
    "tags": []
   },
   "outputs": [
    {
     "name": "stderr",
     "output_type": "stream",
     "text": [
      "2025-07-10 13:19:52.972281: E external/local_xla/xla/stream_executor/cuda/cuda_dnn.cc:9261] Unable to register cuDNN factory: Attempting to register factory for plugin cuDNN when one has already been registered\n",
      "2025-07-10 13:19:52.972360: E external/local_xla/xla/stream_executor/cuda/cuda_fft.cc:607] Unable to register cuFFT factory: Attempting to register factory for plugin cuFFT when one has already been registered\n",
      "2025-07-10 13:19:52.975238: E external/local_xla/xla/stream_executor/cuda/cuda_blas.cc:1515] Unable to register cuBLAS factory: Attempting to register factory for plugin cuBLAS when one has already been registered\n",
      "/usr/local/lib/python3.11/dist-packages/gymnasium/envs/registration.py:596: UserWarning: \u001b[33mWARN: plugin: shimmy.registration:register_gymnasium_envs raised Traceback (most recent call last):\n",
      "  File \"/usr/local/lib/python3.11/dist-packages/gymnasium/envs/registration.py\", line 594, in load_plugin_envs\n",
      "    fn()\n",
      "  File \"/usr/local/lib/python3.11/dist-packages/shimmy/registration.py\", line 304, in register_gymnasium_envs\n",
      "    _register_atari_envs()\n",
      "  File \"/usr/local/lib/python3.11/dist-packages/shimmy/registration.py\", line 244, in _register_atari_envs\n",
      "    _register_atari_configs(\n",
      "  File \"/usr/local/lib/python3.11/dist-packages/shimmy/registration.py\", line 168, in _register_atari_configs\n",
      "    from ale_py.roms import utils as rom_utils\n",
      "ImportError: cannot import name 'utils' from 'ale_py.roms' (/usr/local/lib/python3.11/dist-packages/ale_py/roms/__init__.py)\n",
      "\u001b[0m\n",
      "  logger.warn(f\"plugin: {plugin.value} raised {traceback.format_exc()}\")\n"
     ]
    },
    {
     "name": "stdout",
     "output_type": "stream",
     "text": [
      "TF-Agents version: 0.19.0\n"
     ]
    }
   ],
   "source": [
    "import tf_agents\n",
    "print(\"TF-Agents version:\", tf_agents.__version__)\n"
   ]
  },
  {
   "cell_type": "markdown",
   "id": "ab220282",
   "metadata": {
    "papermill": {
     "duration": 0.00986,
     "end_time": "2025-07-10T13:20:02.366936",
     "exception": false,
     "start_time": "2025-07-10T13:20:02.357076",
     "status": "completed"
    },
    "tags": []
   },
   "source": [
    "**PROMT 1**\n",
    "\n",
    "Quiero trabajar con el entorno Pendulum-v1 utilizando TF-Agents y Gymnasium. Para ello, necesito registrar correctamente el entorno Pendulum-v1 en caso de que no sea reconocido por suite_gym. Luego, deseo cargar dos instancias del entorno: una para entrenamiento (train_env) y otra para evaluación (eval_env), utilizando tf_py_environment de TF-Agents. También quiero imprimir las especificaciones de observación y acción del entorno para verificar su correcta configuración. Además, necesito instalar gymnasium[classic-control] para asegurar la compatibilidad con el entorno clásico del péndulo. Posteriormente, quiero crear una instancia del entorno Pendulum-v1 utilizando gymnasium, con el argumento render_mode=\"rgb_array\" para habilitar la visualización como imagen. Finalmente, quiero definir una función llamada plot_environment() que renderice el entorno y muestre una imagen estática del péndulo utilizando matplotlib. Solicito que me proporciones el código completo para realizar todos estos pasos, organizado y sin errores, compatible con TensorFlow y Gymnasium."
   ]
  },
  {
   "cell_type": "code",
   "execution_count": 3,
   "id": "d72c9844",
   "metadata": {
    "execution": {
     "iopub.execute_input": "2025-07-10T13:20:02.388353Z",
     "iopub.status.busy": "2025-07-10T13:20:02.387856Z",
     "iopub.status.idle": "2025-07-10T13:20:02.436552Z",
     "shell.execute_reply": "2025-07-10T13:20:02.435752Z"
    },
    "papermill": {
     "duration": 0.060639,
     "end_time": "2025-07-10T13:20:02.437582",
     "exception": false,
     "start_time": "2025-07-10T13:20:02.376943",
     "status": "completed"
    },
    "tags": []
   },
   "outputs": [
    {
     "name": "stderr",
     "output_type": "stream",
     "text": [
      "/usr/local/lib/python3.11/dist-packages/gymnasium/envs/registration.py:694: UserWarning: \u001b[33mWARN: Overriding environment Pendulum-v1 already in registry.\u001b[0m\n",
      "  logger.warn(f\"Overriding environment {new_spec.id} already in registry.\")\n"
     ]
    }
   ],
   "source": [
    "from tf_agents.environments import suite_gym\n",
    "from tf_agents.environments import tf_py_environment\n",
    "import gymnasium as gym\n",
    "import gymnasium.envs\n",
    "\n",
    "env_name = \"Pendulum-v1\"\n",
    "\n",
    "# Registra el entorno si Gymnasium no lo reconoce con gym clásico\n",
    "gym.register(id=\"Pendulum-v1\", entry_point=\"gymnasium.envs.classic_control:PendulumEnv\")\n",
    "\n",
    "# Cargar entorno usando suite_gym (de TF-Agents)\n",
    "train_py_env = suite_gym.load(env_name)\n",
    "eval_py_env = suite_gym.load(env_name)\n",
    "\n",
    "train_env = tf_py_environment.TFPyEnvironment(train_py_env)\n",
    "eval_env = tf_py_environment.TFPyEnvironment(eval_py_env)\n"
   ]
  },
  {
   "cell_type": "markdown",
   "id": "cbd73eb4",
   "metadata": {
    "papermill": {
     "duration": 0.009532,
     "end_time": "2025-07-10T13:20:02.456675",
     "exception": false,
     "start_time": "2025-07-10T13:20:02.447143",
     "status": "completed"
    },
    "tags": []
   },
   "source": [
    "Para verificar que no hay error"
   ]
  },
  {
   "cell_type": "code",
   "execution_count": 4,
   "id": "098bd5fd",
   "metadata": {
    "execution": {
     "iopub.execute_input": "2025-07-10T13:20:02.476417Z",
     "iopub.status.busy": "2025-07-10T13:20:02.475844Z",
     "iopub.status.idle": "2025-07-10T13:20:02.480593Z",
     "shell.execute_reply": "2025-07-10T13:20:02.479904Z"
    },
    "papermill": {
     "duration": 0.015628,
     "end_time": "2025-07-10T13:20:02.481695",
     "exception": false,
     "start_time": "2025-07-10T13:20:02.466067",
     "status": "completed"
    },
    "tags": []
   },
   "outputs": [
    {
     "name": "stdout",
     "output_type": "stream",
     "text": [
      "Train env: <tf_agents.environments.tf_py_environment.TFPyEnvironment object at 0x7986326b0d50>\n",
      "Observation spec: BoundedTensorSpec(shape=(3,), dtype=tf.float32, name='observation', minimum=array([-1., -1., -8.], dtype=float32), maximum=array([1., 1., 8.], dtype=float32))\n",
      "Action spec: BoundedTensorSpec(shape=(1,), dtype=tf.float32, name='action', minimum=array(-2., dtype=float32), maximum=array(2., dtype=float32))\n"
     ]
    }
   ],
   "source": [
    "# Verificación\n",
    "print(\"Train env:\", train_env)\n",
    "print(\"Observation spec:\", train_env.observation_spec())\n",
    "print(\"Action spec:\", train_env.action_spec())"
   ]
  },
  {
   "cell_type": "markdown",
   "id": "cd06b9a6",
   "metadata": {
    "papermill": {
     "duration": 0.00941,
     "end_time": "2025-07-10T13:20:02.500545",
     "exception": false,
     "start_time": "2025-07-10T13:20:02.491135",
     "status": "completed"
    },
    "tags": []
   },
   "source": [
    "Instala Gymnasium"
   ]
  },
  {
   "cell_type": "code",
   "execution_count": 5,
   "id": "75344713",
   "metadata": {
    "execution": {
     "iopub.execute_input": "2025-07-10T13:20:02.521113Z",
     "iopub.status.busy": "2025-07-10T13:20:02.520655Z",
     "iopub.status.idle": "2025-07-10T13:20:05.446413Z",
     "shell.execute_reply": "2025-07-10T13:20:05.445189Z"
    },
    "papermill": {
     "duration": 2.937298,
     "end_time": "2025-07-10T13:20:05.447825",
     "exception": false,
     "start_time": "2025-07-10T13:20:02.510527",
     "status": "completed"
    },
    "tags": []
   },
   "outputs": [
    {
     "name": "stdout",
     "output_type": "stream",
     "text": [
      "Requirement already satisfied: gymnasium[classic-control] in /usr/local/lib/python3.11/dist-packages (0.29.0)\r\n",
      "Requirement already satisfied: numpy>=1.21.0 in /usr/local/lib/python3.11/dist-packages (from gymnasium[classic-control]) (1.26.4)\r\n",
      "Requirement already satisfied: cloudpickle>=1.2.0 in /usr/local/lib/python3.11/dist-packages (from gymnasium[classic-control]) (3.1.1)\r\n",
      "Requirement already satisfied: typing-extensions>=4.3.0 in /usr/local/lib/python3.11/dist-packages (from gymnasium[classic-control]) (4.5.0)\r\n",
      "Requirement already satisfied: farama-notifications>=0.0.1 in /usr/local/lib/python3.11/dist-packages (from gymnasium[classic-control]) (0.0.4)\r\n",
      "Requirement already satisfied: pygame>=2.1.3 in /usr/local/lib/python3.11/dist-packages (from gymnasium[classic-control]) (2.1.3)\r\n",
      "Requirement already satisfied: mkl_fft in /usr/local/lib/python3.11/dist-packages (from numpy>=1.21.0->gymnasium[classic-control]) (1.3.8)\r\n",
      "Requirement already satisfied: mkl_random in /usr/local/lib/python3.11/dist-packages (from numpy>=1.21.0->gymnasium[classic-control]) (1.2.4)\r\n",
      "Requirement already satisfied: mkl_umath in /usr/local/lib/python3.11/dist-packages (from numpy>=1.21.0->gymnasium[classic-control]) (0.1.1)\r\n",
      "Requirement already satisfied: mkl in /usr/local/lib/python3.11/dist-packages (from numpy>=1.21.0->gymnasium[classic-control]) (2025.1.0)\r\n",
      "Requirement already satisfied: tbb4py in /usr/local/lib/python3.11/dist-packages (from numpy>=1.21.0->gymnasium[classic-control]) (2022.1.0)\r\n",
      "Requirement already satisfied: mkl-service in /usr/local/lib/python3.11/dist-packages (from numpy>=1.21.0->gymnasium[classic-control]) (2.4.1)\r\n",
      "Requirement already satisfied: intel-openmp<2026,>=2024 in /usr/local/lib/python3.11/dist-packages (from mkl->numpy>=1.21.0->gymnasium[classic-control]) (2024.2.0)\r\n",
      "Requirement already satisfied: tbb==2022.* in /usr/local/lib/python3.11/dist-packages (from mkl->numpy>=1.21.0->gymnasium[classic-control]) (2022.1.0)\r\n",
      "Requirement already satisfied: tcmlib==1.* in /usr/local/lib/python3.11/dist-packages (from tbb==2022.*->mkl->numpy>=1.21.0->gymnasium[classic-control]) (1.3.0)\r\n",
      "Requirement already satisfied: intel-cmplr-lib-rt in /usr/local/lib/python3.11/dist-packages (from mkl_umath->numpy>=1.21.0->gymnasium[classic-control]) (2024.2.0)\r\n",
      "Requirement already satisfied: intel-cmplr-lib-ur==2024.2.0 in /usr/local/lib/python3.11/dist-packages (from intel-openmp<2026,>=2024->mkl->numpy>=1.21.0->gymnasium[classic-control]) (2024.2.0)\r\n",
      "Note: you may need to restart the kernel to use updated packages.\n"
     ]
    }
   ],
   "source": [
    "pip install gymnasium[classic-control]\n"
   ]
  },
  {
   "cell_type": "markdown",
   "id": "4e4b2ac2",
   "metadata": {
    "papermill": {
     "duration": 0.009629,
     "end_time": "2025-07-10T13:20:05.467623",
     "exception": false,
     "start_time": "2025-07-10T13:20:05.457994",
     "status": "completed"
    },
    "tags": []
   },
   "source": [
    "Se importa correctamente desde gymnasium\n"
   ]
  },
  {
   "cell_type": "code",
   "execution_count": 6,
   "id": "331f9090",
   "metadata": {
    "execution": {
     "iopub.execute_input": "2025-07-10T13:20:05.487977Z",
     "iopub.status.busy": "2025-07-10T13:20:05.487705Z",
     "iopub.status.idle": "2025-07-10T13:20:05.735822Z",
     "shell.execute_reply": "2025-07-10T13:20:05.735156Z"
    },
    "papermill": {
     "duration": 0.259927,
     "end_time": "2025-07-10T13:20:05.737056",
     "exception": false,
     "start_time": "2025-07-10T13:20:05.477129",
     "status": "completed"
    },
    "tags": []
   },
   "outputs": [
    {
     "data": {
      "image/png": "[encoded data removed]",
      "text/plain": [
       "<Figure size 600x600 with 1 Axes>"
      ]
     },
     "metadata": {},
     "output_type": "display_data"
    }
   ],
   "source": [
    "import gymnasium as gym\n",
    "import matplotlib.pyplot as plt\n",
    "\n",
    "# Crear entorno con render_mode adecuado (sólo funciona en gymnasium)\n",
    "env = gym.make(\"Pendulum-v1\", render_mode=\"rgb_array\")\n",
    "obs, _ = env.reset(seed=42)\n",
    "\n",
    "# Visualizar el entorno\n",
    "def plot_environment(env, figsize=(6, 6)):\n",
    "    img = env.render()  # Devuelve imagen RGB\n",
    "    plt.figure(figsize=figsize)\n",
    "    plt.imshow(img)\n",
    "    plt.axis(\"off\")\n",
    "    plt.title(\"Pendulum-v1 Environment\")\n",
    "    plt.show()\n",
    "\n",
    "# Mostrar una imagen del entorno\n",
    "plot_environment(env)\n"
   ]
  },
  {
   "cell_type": "markdown",
   "id": "dc71da46",
   "metadata": {
    "papermill": {
     "duration": 0.009707,
     "end_time": "2025-07-10T13:20:05.756977",
     "exception": false,
     "start_time": "2025-07-10T13:20:05.747270",
     "status": "completed"
    },
    "tags": []
   },
   "source": [
    "**PROMT 2**\n",
    "\n",
    "Define los hiperparámetros necesarios para entrenar un agente DDPG (DdpgAgent) en el entorno Pendulum-v1 usando TF-Agents. Incluye los parámetros globales de entrenamiento como número de iteraciones, pasos de recolección inicial, tamaño del replay buffer, batch size, etc. También incluye los hiperparámetros específicos del agente DDPG: tamaño de las capas ocultas para el actor y el crítico, tasas de aprendizaje, el parámetro gamma (descuento de recompensa), el parámetro tau (actualización suave de redes objetivo), y los parámetros del proceso de exploración Ornstein-Uhlenbeck (ou_stddev, ou_damping). Organiza el código como una celda de notebook clara y estructurada"
   ]
  },
  {
   "cell_type": "code",
   "execution_count": 7,
   "id": "cb858e4e",
   "metadata": {
    "execution": {
     "iopub.execute_input": "2025-07-10T13:20:05.777552Z",
     "iopub.status.busy": "2025-07-10T13:20:05.777268Z",
     "iopub.status.idle": "2025-07-10T13:20:05.782267Z",
     "shell.execute_reply": "2025-07-10T13:20:05.781722Z"
    },
    "papermill": {
     "duration": 0.016596,
     "end_time": "2025-07-10T13:20:05.783277",
     "exception": false,
     "start_time": "2025-07-10T13:20:05.766681",
     "status": "completed"
    },
    "tags": []
   },
   "outputs": [],
   "source": [
    "# Hiperparámetros globales de entrenamiento\n",
    "num_iterations = 25000               # Número total de iteraciones de entrenamiento\n",
    "initial_collect_steps = 1000         # Pasos de recolección iniciales antes de entrenar\n",
    "collect_steps_per_iteration = 1      # Pasos de recolección por iteración\n",
    "replay_buffer_capacity = 100000      # Tamaño del buffer de repetición\n",
    "\n",
    "batch_size = 64                      # Tamaño del batch para entrenamiento\n",
    "log_interval = 200                   # Frecuencia de impresión de métricas\n",
    "eval_interval = 1000                 # Frecuencia de evaluación del agente\n",
    "num_eval_episodes = 10               # Episodios para evaluación\n",
    "\n",
    "# Hiperparámetros del agente DDPG\n",
    "actor_fc_layers = (400, 300)         # Capas ocultas del actor\n",
    "critic_obs_fc_layers = ()            # Sin capas ocultas para la parte de observación del crítico\n",
    "critic_action_fc_layers = ()         # Sin capas ocultas para la parte de acción del crítico\n",
    "critic_joint_fc_layers = (400, 300)  # Capas conjuntas del crítico\n",
    "\n",
    "actor_learning_rate = 1e-4           # Tasa de aprendizaje del actor\n",
    "critic_learning_rate = 1e-3          # Tasa de aprendizaje del crítico\n",
    "\n",
    "gamma = 0.99                         # Factor de descuento de recompensa\n",
    "tau = 0.005                          # Parámetro tau para soft updates de las redes objetivo\n",
    "\n",
    "# Parámetros del proceso de exploración (Ornstein-Uhlenbeck noise)\n",
    "ou_stddev = 0.2                      # Desviación estándar\n",
    "ou_damping = 0.15                    # Tasa de amortiguación del ruido\n"
   ]
  },
  {
   "cell_type": "markdown",
   "id": "8c23b4a0",
   "metadata": {
    "papermill": {
     "duration": 0.009531,
     "end_time": "2025-07-10T13:20:05.802561",
     "exception": false,
     "start_time": "2025-07-10T13:20:05.793030",
     "status": "completed"
    },
    "tags": []
   },
   "source": [
    "**PROMT 3**\n",
    "\n",
    "Define las redes neuronales necesarias para un agente DDPG (DdpgAgent) en el entorno Pendulum-v1 usando TF-Agents. Crea una red actor determinista que reciba la observación y devuelva una acción continua, utilizando la clase ActorNetwork desde tf_agents.agents.ddpg.actor_network. Luego, define una red crítica que reciba como entrada una tupla (observación, acción) y devuelva el valor estimado Q, utilizando la clase CriticNetwork desde tf_agents.agents.ddpg.critic_network. Usa los tamaños de capa definidos en los hiperparámetros (actor_fc_layers y critic_fc_layers). Al final, imprime una verificación que confirme que las redes fueron creadas correctamente."
   ]
  },
  {
   "cell_type": "code",
   "execution_count": 8,
   "id": "3634cabb",
   "metadata": {
    "execution": {
     "iopub.execute_input": "2025-07-10T13:20:05.822762Z",
     "iopub.status.busy": "2025-07-10T13:20:05.822524Z",
     "iopub.status.idle": "2025-07-10T13:20:07.023770Z",
     "shell.execute_reply": "2025-07-10T13:20:07.022853Z"
    },
    "papermill": {
     "duration": 1.213073,
     "end_time": "2025-07-10T13:20:07.025234",
     "exception": false,
     "start_time": "2025-07-10T13:20:05.812161",
     "status": "completed"
    },
    "tags": []
   },
   "outputs": [
    {
     "name": "stdout",
     "output_type": "stream",
     "text": [
      "✅ ActorNetwork y CriticNetwork creados correctamente.\n",
      "Acción generada por ActorNetwork: [[-0.00229035]]\n",
      "Valor Q estimado por CriticNetwork: [-0.00065284]\n"
     ]
    }
   ],
   "source": [
    "import tensorflow as tf\n",
    "import numpy as np\n",
    "from tf_agents.agents.ddpg.actor_network import ActorNetwork\n",
    "from tf_agents.agents.ddpg.critic_network import CriticNetwork\n",
    "from tf_agents.specs import tensor_spec\n",
    "from tf_agents.utils import common\n",
    "\n",
    "# Hiperparámetros de red definidos previamente\n",
    "actor_fc_layers = (400, 300)\n",
    "critic_obs_fc_layers = ()\n",
    "critic_action_fc_layers = ()\n",
    "critic_joint_fc_layers = (400, 300)\n",
    "\n",
    "# Obtener especificaciones del entorno\n",
    "observation_spec = train_env.observation_spec()\n",
    "action_spec = train_env.action_spec()\n",
    "time_step_spec = train_env.time_step_spec()\n",
    "\n",
    "# Red Actor: genera acción continua dada la observación\n",
    "actor_net = ActorNetwork(\n",
    "    input_tensor_spec=observation_spec,\n",
    "    output_tensor_spec=action_spec,\n",
    "    fc_layer_params=actor_fc_layers,\n",
    "    activation_fn=tf.keras.activations.relu,\n",
    "    name='ActorNetwork'\n",
    ")\n",
    "\n",
    "# Red Crítico: estima valor Q dado (observación, acción)\n",
    "critic_net = CriticNetwork(\n",
    "    input_tensor_spec=(observation_spec, action_spec),\n",
    "    observation_fc_layer_params=critic_obs_fc_layers,\n",
    "    action_fc_layer_params=critic_action_fc_layers,\n",
    "    joint_fc_layer_params=critic_joint_fc_layers,\n",
    "    activation_fn=tf.keras.activations.relu,\n",
    "    name='CriticNetwork'\n",
    ")\n",
    "\n",
    "# ======= ✅ Verificación práctica =======\n",
    "\n",
    "# Crear observación y acción de prueba\n",
    "sample_obs = tf.convert_to_tensor(\n",
    "    np.random.random(size=(1,) + observation_spec.shape).astype(np.float32)\n",
    ")\n",
    "\n",
    "sample_action = tf.convert_to_tensor(\n",
    "    np.random.uniform(low=action_spec.minimum, high=action_spec.maximum, size=(1,) + action_spec.shape).astype(np.float32)\n",
    ")\n",
    "\n",
    "# Evaluar redes\n",
    "sample_action_output, _ = actor_net(sample_obs)\n",
    "sample_q_value, _ = critic_net((sample_obs, sample_action))\n",
    "\n",
    "# Imprimir resultados\n",
    "print(\"✅ ActorNetwork y CriticNetwork creados correctamente.\")\n",
    "print(\"Acción generada por ActorNetwork:\", sample_action_output.numpy())\n",
    "print(\"Valor Q estimado por CriticNetwork:\", sample_q_value.numpy())\n"
   ]
  },
  {
   "cell_type": "markdown",
   "id": "b4d74936",
   "metadata": {
    "papermill": {
     "duration": 0.063604,
     "end_time": "2025-07-10T13:20:07.101861",
     "exception": false,
     "start_time": "2025-07-10T13:20:07.038257",
     "status": "completed"
    },
    "tags": []
   },
   "source": [
    "**PROMT 4**\n",
    "\n",
    "Crea un agente DDPG (DdpgAgent) utilizando TF-Agents para el entorno Pendulum-v1. Usa las redes actor_net y critic_net previamente definidas, y configura el agente con los hiperparámetros correspondientes, como las tasas de aprendizaje para el actor y el crítico (actor_lr, critic_lr), el factor de descuento gamma, el parámetro de actualización suave tau, y los parámetros de ruido Ornstein-Uhlenbeck para la exploración (ou_stddev, ou_damping). Asegúrate de definir un contador de pasos train_step y llamar a agent.initialize(). Al final, imprime un mensaje de verificación para confirmar que el agente fue creado correctamente."
   ]
  },
  {
   "cell_type": "code",
   "execution_count": 9,
   "id": "193e0bd4",
   "metadata": {
    "execution": {
     "iopub.execute_input": "2025-07-10T13:20:07.122899Z",
     "iopub.status.busy": "2025-07-10T13:20:07.122238Z",
     "iopub.status.idle": "2025-07-10T13:20:07.213714Z",
     "shell.execute_reply": "2025-07-10T13:20:07.212918Z"
    },
    "papermill": {
     "duration": 0.103257,
     "end_time": "2025-07-10T13:20:07.214988",
     "exception": false,
     "start_time": "2025-07-10T13:20:07.111731",
     "status": "completed"
    },
    "tags": []
   },
   "outputs": [
    {
     "name": "stdout",
     "output_type": "stream",
     "text": [
      "✅ Agente DDPG creado e inicializado correctamente.\n",
      "Train step (contador): 0\n"
     ]
    }
   ],
   "source": [
    "from tf_agents.agents.ddpg.ddpg_agent import DdpgAgent\n",
    "from tf_agents.train.utils import train_utils\n",
    "from tf_agents.trajectories import time_step as ts\n",
    "from tf_agents.utils import common\n",
    "from tf_agents.policies.ou_noise_policy import OUNoisePolicy\n",
    "from tensorflow.keras.optimizers import Adam\n",
    "\n",
    "# ==== Hiperparámetros ====\n",
    "actor_learning_rate = 1e-4\n",
    "critic_learning_rate = 1e-3\n",
    "gamma = 0.99\n",
    "tau = 0.005\n",
    "ou_stddev = 0.2\n",
    "ou_damping = 0.15\n",
    "\n",
    "# ==== Contador global de pasos ====\n",
    "train_step = train_utils.create_train_step()\n",
    "\n",
    "# ==== Optimizadores ====\n",
    "actor_optimizer = Adam(learning_rate=actor_learning_rate)\n",
    "critic_optimizer = Adam(learning_rate=critic_learning_rate)\n",
    "\n",
    "# ==== Crear el agente DDPG ====\n",
    "agent = DdpgAgent(\n",
    "    time_step_spec=train_env.time_step_spec(),\n",
    "    action_spec=action_spec,\n",
    "    actor_network=actor_net,\n",
    "    critic_network=critic_net,\n",
    "    actor_optimizer=actor_optimizer,\n",
    "    critic_optimizer=critic_optimizer,\n",
    "    ou_stddev=ou_stddev,\n",
    "    ou_damping=ou_damping,\n",
    "    target_update_tau=tau,\n",
    "    target_update_period=1,\n",
    "    gamma=gamma,\n",
    "    reward_scale_factor=1.0,\n",
    "    gradient_clipping=None,\n",
    "    debug_summaries=False,\n",
    "    summarize_grads_and_vars=False,\n",
    "    train_step_counter=train_step\n",
    ")\n",
    "\n",
    "# Inicializar variables del agente\n",
    "agent.initialize()\n",
    "\n",
    "# ✅ Verificación\n",
    "print(\"✅ Agente DDPG creado e inicializado correctamente.\")\n",
    "print(\"Train step (contador):\", train_step.numpy())\n"
   ]
  },
  {
   "cell_type": "markdown",
   "id": "1016d076",
   "metadata": {
    "papermill": {
     "duration": 0.009946,
     "end_time": "2025-07-10T13:20:07.235854",
     "exception": false,
     "start_time": "2025-07-10T13:20:07.225908",
     "status": "completed"
    },
    "tags": []
   },
   "source": [
    "**PROMT 5**\n",
    "\n",
    "Configura los componentes necesarios para que el agente DDPG recolecte experiencias del entorno. Usa la política de recolección del agente (agent.collect_policy) para interactuar con el entorno train_env. Crea un TFUniformReplayBuffer con las especificaciones de datos del agente, el batch_size del entorno y una capacidad máxima definida en los hiperparámetros. Luego, configura un DynamicStepDriver que recolecte transiciones paso a paso utilizando esa política, y almacene las experiencias directamente en el buffer. También puedes incluir una métrica opcional para contar episodios. Al final, imprime un mensaje de verificación que confirme que la política, el buffer y el driver fueron configurados correctamente."
   ]
  },
  {
   "cell_type": "code",
   "execution_count": 10,
   "id": "e1b99679",
   "metadata": {
    "execution": {
     "iopub.execute_input": "2025-07-10T13:20:07.256776Z",
     "iopub.status.busy": "2025-07-10T13:20:07.256310Z",
     "iopub.status.idle": "2025-07-10T13:20:07.284243Z",
     "shell.execute_reply": "2025-07-10T13:20:07.283454Z"
    },
    "papermill": {
     "duration": 0.039657,
     "end_time": "2025-07-10T13:20:07.285414",
     "exception": false,
     "start_time": "2025-07-10T13:20:07.245757",
     "status": "completed"
    },
    "tags": []
   },
   "outputs": [
    {
     "name": "stdout",
     "output_type": "stream",
     "text": [
      "✅ Política de recolección, buffer y driver configurados correctamente.\n",
      "Replay buffer capacity: 100000\n",
      "Collect steps per iteration: 1\n"
     ]
    }
   ],
   "source": [
    "from tf_agents.replay_buffers import tf_uniform_replay_buffer\n",
    "from tf_agents.drivers.dynamic_step_driver import DynamicStepDriver\n",
    "from tf_agents.metrics import tf_metrics\n",
    "from tf_agents.trajectories import trajectory\n",
    "\n",
    "# ==== Hiperparámetros de almacenamiento ====\n",
    "replay_buffer_capacity = 100000\n",
    "collect_steps_per_iteration = 1\n",
    "\n",
    "# ==== Crear Replay Buffer ====\n",
    "replay_buffer = tf_uniform_replay_buffer.TFUniformReplayBuffer(\n",
    "    data_spec=agent.collect_data_spec,       # Especificación de datos del agente\n",
    "    batch_size=train_env.batch_size,         # Tamaño por lote del entorno (normalmente 1)\n",
    "    max_length=replay_buffer_capacity        # Capacidad máxima del buffer\n",
    ")\n",
    "\n",
    "# ==== Métrica opcional ====\n",
    "episode_counter = tf_metrics.NumberOfEpisodes()\n",
    "\n",
    "# ==== Crear el Driver dinámico ====\n",
    "collect_driver = DynamicStepDriver(\n",
    "    env=train_env,\n",
    "    policy=agent.collect_policy,\n",
    "    observers=[replay_buffer.add_batch, episode_counter],\n",
    "    num_steps=collect_steps_per_iteration\n",
    ")\n",
    "\n",
    "# ✅ Verificación\n",
    "print(\"✅ Política de recolección, buffer y driver configurados correctamente.\")\n",
    "print(\"Replay buffer capacity:\", replay_buffer_capacity)\n",
    "print(\"Collect steps per iteration:\", collect_steps_per_iteration)\n"
   ]
  },
  {
   "cell_type": "markdown",
   "id": "aed6db42",
   "metadata": {
    "papermill": {
     "duration": 0.009939,
     "end_time": "2025-07-10T13:20:07.305275",
     "exception": false,
     "start_time": "2025-07-10T13:20:07.295336",
     "status": "completed"
    },
    "tags": []
   },
   "source": [
    "**PROMT 6**\n",
    "\n",
    "Antes de entrenar al agente DDPG, recolecta una cantidad inicial de experiencias usando una política completamente aleatoria (RandomTFPolicy). Esta política actuará sobre el entorno train_env durante una cantidad de pasos definidos por initial_collect_steps. Para ello, configura un DynamicStepDriver con esta política aleatoria y el replay buffer como observador, para almacenar las transiciones recolectadas. Ejecuta el driver para llenar el buffer inicial. Al final, imprime un mensaje que confirme que la recolección inicial fue completada correctamente."
   ]
  },
  {
   "cell_type": "code",
   "execution_count": 11,
   "id": "c4e835c4",
   "metadata": {
    "execution": {
     "iopub.execute_input": "2025-07-10T13:20:07.325824Z",
     "iopub.status.busy": "2025-07-10T13:20:07.325609Z",
     "iopub.status.idle": "2025-07-10T13:20:12.341858Z",
     "shell.execute_reply": "2025-07-10T13:20:12.340983Z"
    },
    "papermill": {
     "duration": 5.028313,
     "end_time": "2025-07-10T13:20:12.343255",
     "exception": false,
     "start_time": "2025-07-10T13:20:07.314942",
     "status": "completed"
    },
    "tags": []
   },
   "outputs": [
    {
     "name": "stdout",
     "output_type": "stream",
     "text": [
      "✅ Recolección inicial completada: 1000 pasos almacenados en el buffer.\n"
     ]
    }
   ],
   "source": [
    "from tf_agents.policies.random_tf_policy import RandomTFPolicy\n",
    "from tf_agents.drivers.dynamic_step_driver import DynamicStepDriver\n",
    "from tf_agents.trajectories import trajectory\n",
    "\n",
    "# ==== Hiperparámetro definido previamente ====\n",
    "initial_collect_steps = 1000\n",
    "\n",
    "# ==== Crear política aleatoria basada en las especificaciones del entorno ====\n",
    "random_policy = RandomTFPolicy(\n",
    "    time_step_spec=train_env.time_step_spec(),\n",
    "    action_spec=train_env.action_spec()\n",
    ")\n",
    "\n",
    "# ==== Crear driver para recolección inicial ====\n",
    "initial_collect_driver = DynamicStepDriver(\n",
    "    env=train_env,\n",
    "    policy=random_policy,\n",
    "    observers=[replay_buffer.add_batch],\n",
    "    num_steps=initial_collect_steps\n",
    ")\n",
    "\n",
    "# ==== Ejecutar el driver ====\n",
    "final_time_step, final_policy_state = initial_collect_driver.run()\n",
    "\n",
    "# ✅ Verificación\n",
    "print(f\"✅ Recolección inicial completada: {initial_collect_steps} pasos almacenados en el buffer.\")\n"
   ]
  },
  {
   "cell_type": "markdown",
   "id": "203c8212",
   "metadata": {
    "papermill": {
     "duration": 0.009986,
     "end_time": "2025-07-10T13:20:12.364040",
     "exception": false,
     "start_time": "2025-07-10T13:20:12.354054",
     "status": "completed"
    },
    "tags": []
   },
   "source": [
    "**PROMT 7**\n",
    "\n",
    "Crea un dataset a partir del replay buffer configurado previamente, para usarlo como fuente de experiencias durante el entrenamiento del agente DDPG. Usa el método as_dataset del buffer, especificando el batch_size y num_steps=2 para obtener transiciones completas (s, a, r, s′). Crea un iterador con iter(...) para obtener muestras del dataset. Luego, verifica el funcionamiento del dataset extrayendo un batch con next(iterator) y mostrando la forma de las observaciones, acciones y recompensas."
   ]
  },
  {
   "cell_type": "code",
   "execution_count": 12,
   "id": "6636f9ae",
   "metadata": {
    "execution": {
     "iopub.execute_input": "2025-07-10T13:20:12.385098Z",
     "iopub.status.busy": "2025-07-10T13:20:12.384835Z",
     "iopub.status.idle": "2025-07-10T13:20:13.458214Z",
     "shell.execute_reply": "2025-07-10T13:20:13.457215Z"
    },
    "papermill": {
     "duration": 1.085425,
     "end_time": "2025-07-10T13:20:13.459425",
     "exception": false,
     "start_time": "2025-07-10T13:20:12.374000",
     "status": "completed"
    },
    "tags": []
   },
   "outputs": [
    {
     "name": "stdout",
     "output_type": "stream",
     "text": [
      "✅ Batch extraído del dataset.\n",
      "Observations shape: (64, 2, 3)\n",
      "Actions shape: (64, 2, 1)\n",
      "Rewards shape: (64, 2)\n"
     ]
    }
   ],
   "source": [
    "# ==== Hiperparámetro ====\n",
    "batch_size = 64  # Ya definido previamente\n",
    "\n",
    "# ==== Crear dataset desde el replay buffer ====\n",
    "dataset = replay_buffer.as_dataset(\n",
    "    sample_batch_size=batch_size,\n",
    "    num_steps=2,\n",
    "    single_deterministic_pass=False\n",
    ").prefetch(3)  # Mejora el rendimiento de entrenamiento\n",
    "\n",
    "# ==== Crear iterador del dataset ====\n",
    "iterator = iter(dataset)\n",
    "\n",
    "# ==== Extraer un batch para verificar ====\n",
    "experience, _ = next(iterator)\n",
    "\n",
    "# ==== Verificación de formas ====\n",
    "print(\"✅ Batch extraído del dataset.\")\n",
    "print(\"Observations shape:\", experience.observation.shape)\n",
    "print(\"Actions shape:\", experience.action.shape)\n",
    "print(\"Rewards shape:\", experience.reward.shape)\n"
   ]
  },
  {
   "cell_type": "markdown",
   "id": "f11c2a25",
   "metadata": {
    "papermill": {
     "duration": 0.009941,
     "end_time": "2025-07-10T13:20:13.480467",
     "exception": false,
     "start_time": "2025-07-10T13:20:13.470526",
     "status": "completed"
    },
    "tags": []
   },
   "source": [
    "**PROMT 8**\n",
    "\n",
    "Implementa el ciclo de entrenamiento del agente DDPG en el entorno Pendulum-v1 utilizando TF-Agents. Durante cada iteración, el agente recolecta datos con el collect_driver, obtiene un batch del dataset del replay buffer y realiza un paso de entrenamiento (agent.train). Cada eval_interval pasos, evalúa la política entrenada ejecutando num_eval_episodes episodios y almacenando el reward promedio. Al final del entrenamiento, grafica el reward promedio por evaluación para visualizar el aprendizaje del agente."
   ]
  },
  {
   "cell_type": "code",
   "execution_count": 13,
   "id": "bae1138d",
   "metadata": {
    "execution": {
     "iopub.execute_input": "2025-07-10T13:20:13.501283Z",
     "iopub.status.busy": "2025-07-10T13:20:13.500783Z",
     "iopub.status.idle": "2025-07-10T14:01:12.237254Z",
     "shell.execute_reply": "2025-07-10T14:01:12.236572Z"
    },
    "papermill": {
     "duration": 2458.748451,
     "end_time": "2025-07-10T14:01:12.238748",
     "exception": false,
     "start_time": "2025-07-10T13:20:13.490297",
     "status": "completed"
    },
    "tags": []
   },
   "outputs": [
    {
     "data": {
      "application/vnd.jupyter.widget-view+json": {
       "model_id": "22ca31751c2a4b3c848090d34631e957",
       "version_major": 2,
       "version_minor": 0
      },
      "text/plain": [
       "Training DDPG Agent:   0%|          | 0/25000 [00:00<?, ?it/s]"
      ]
     },
     "metadata": {},
     "output_type": "display_data"
    },
    {
     "name": "stdout",
     "output_type": "stream",
     "text": [
      "Iteración 0 — Loss: 4.7697 — Reward Promedio: -1202.18\n",
      "Iteración 1000 — Loss: 0.2389 — Reward Promedio: -1486.34\n",
      "Iteración 2000 — Loss: 1.8247 — Reward Promedio: -884.60\n",
      "Iteración 3000 — Loss: 1.9181 — Reward Promedio: -295.30\n",
      "Iteración 4000 — Loss: 2.2474 — Reward Promedio: -234.32\n",
      "Iteración 5000 — Loss: 1.8443 — Reward Promedio: -114.90\n",
      "Iteración 6000 — Loss: 3.7214 — Reward Promedio: -156.50\n",
      "Iteración 7000 — Loss: 6.8850 — Reward Promedio: -151.28\n",
      "Iteración 8000 — Loss: 6.9701 — Reward Promedio: -141.45\n",
      "Iteración 9000 — Loss: 13.9471 — Reward Promedio: -166.51\n",
      "Iteración 10000 — Loss: 10.0596 — Reward Promedio: -205.06\n",
      "Iteración 11000 — Loss: 15.9767 — Reward Promedio: -169.20\n",
      "Iteración 12000 — Loss: 16.0129 — Reward Promedio: -156.06\n",
      "Iteración 13000 — Loss: 16.1391 — Reward Promedio: -135.52\n",
      "Iteración 14000 — Loss: 3.3329 — Reward Promedio: -126.76\n",
      "Iteración 15000 — Loss: 19.8718 — Reward Promedio: -144.20\n",
      "Iteración 16000 — Loss: 11.6220 — Reward Promedio: -139.84\n",
      "Iteración 17000 — Loss: 13.4373 — Reward Promedio: -156.07\n",
      "Iteración 18000 — Loss: 14.3808 — Reward Promedio: -157.02\n",
      "Iteración 19000 — Loss: 108.8035 — Reward Promedio: -120.66\n",
      "Iteración 20000 — Loss: 6.4574 — Reward Promedio: -96.41\n",
      "Iteración 21000 — Loss: 7.7047 — Reward Promedio: -97.65\n",
      "Iteración 22000 — Loss: 62.8182 — Reward Promedio: -209.34\n",
      "Iteración 23000 — Loss: 2.9169 — Reward Promedio: -122.25\n",
      "Iteración 24000 — Loss: 1.6222 — Reward Promedio: -120.15\n"
     ]
    },
    {
     "data": {
      "image/png": "[encoded data removed]",
      "text/plain": [
       "<Figure size 1000x500 with 1 Axes>"
      ]
     },
     "metadata": {},
     "output_type": "display_data"
    }
   ],
   "source": [
    "import matplotlib.pyplot as plt\n",
    "from tqdm.notebook import trange\n",
    "import numpy as np\n",
    "\n",
    "# ==== Hiperparámetros definidos anteriormente ====\n",
    "num_iterations = 25000\n",
    "eval_interval = 1000\n",
    "num_eval_episodes = 10\n",
    "\n",
    "# ==== Lista para almacenar rewards promedio ====\n",
    "avg_return_list = []\n",
    "\n",
    "# ==== Función de evaluación de política ====\n",
    "def compute_avg_return(environment, policy, num_episodes=10):\n",
    "    total_return = 0.0\n",
    "    for _ in range(num_episodes):\n",
    "        time_step = environment.reset()\n",
    "        episode_return = 0.0\n",
    "        while not time_step.is_last():\n",
    "            action_step = policy.action(time_step)\n",
    "            time_step = environment.step(action_step.action)\n",
    "            episode_return += time_step.reward\n",
    "        total_return += episode_return\n",
    "    avg_return = total_return / num_episodes\n",
    "    return avg_return.numpy()[0]\n",
    "\n",
    "# ==== Ciclo principal de entrenamiento ====\n",
    "for iteration in trange(num_iterations, desc=\"Training DDPG Agent\"):\n",
    "\n",
    "    # 1. Recolectar experiencia con collect_policy\n",
    "    collect_driver.run()\n",
    "\n",
    "    # 2. Tomar un batch del dataset (del replay buffer)\n",
    "    experience, _ = next(iterator)\n",
    "\n",
    "    # 3. Entrenar el agente con la experiencia\n",
    "    train_loss = agent.train(experience).loss\n",
    "\n",
    "    # 4. Evaluación periódica\n",
    "    if iteration % eval_interval == 0:\n",
    "        avg_return = compute_avg_return(eval_env, agent.policy, num_eval_episodes)\n",
    "        avg_return_list.append(avg_return)\n",
    "        print(f\"Iteración {iteration} — Loss: {train_loss:.4f} — Reward Promedio: {avg_return:.2f}\")\n",
    "\n",
    "# ==== Visualización corregida ====\n",
    "plt.figure(figsize=(10, 5))\n",
    "plt.plot(np.arange(len(avg_return_list)) * eval_interval, avg_return_list, marker='o')\n",
    "plt.xlabel(\"Iterations\")\n",
    "plt.ylabel(\"Average Return\")\n",
    "plt.title(\"Evolución del rendimiento del agente DDPG\")\n",
    "plt.grid(True)\n",
    "plt.tight_layout()\n",
    "plt.show()\n"
   ]
  },
  {
   "cell_type": "markdown",
   "id": "8c7c9f33",
   "metadata": {
    "papermill": {
     "duration": 0.012607,
     "end_time": "2025-07-10T14:01:12.264686",
     "exception": false,
     "start_time": "2025-07-10T14:01:12.252079",
     "status": "completed"
    },
    "tags": []
   },
   "source": [
    "**PROMT 9**\n",
    "\n",
    "Genera dos videos para el entorno Pendulum-v1 en Gymnasium, uno usando el agente DDPG entrenado y otro usando una política aleatoria (no entrenada). Usa imageio para guardar ambos como archivos .mp4 y asegúrate de que se guarden en una carpeta /kaggle/working/videos. El video debe tener 200 pasos y usarse render_mode='rgb_array'. También quiero que imprima la ruta de cada archivo generado"
   ]
  },
  {
   "cell_type": "code",
   "execution_count": 14,
   "id": "6665bb2e",
   "metadata": {
    "execution": {
     "iopub.execute_input": "2025-07-10T14:01:12.292166Z",
     "iopub.status.busy": "2025-07-10T14:01:12.291942Z",
     "iopub.status.idle": "2025-07-10T14:01:12.344070Z",
     "shell.execute_reply": "2025-07-10T14:01:12.343575Z"
    },
    "papermill": {
     "duration": 0.067283,
     "end_time": "2025-07-10T14:01:12.345120",
     "exception": false,
     "start_time": "2025-07-10T14:01:12.277837",
     "status": "completed"
    },
    "tags": []
   },
   "outputs": [],
   "source": [
    "import imageio\n",
    "import os\n",
    "import tensorflow as tf\n",
    "import gymnasium as gym\n",
    "from tf_agents.trajectories import time_step as ts\n",
    "\n",
    "# 📁 Asegurar carpeta de salida\n",
    "video_dir = \"/kaggle/working/videos\"\n",
    "os.makedirs(video_dir, exist_ok=True)\n",
    "\n",
    "def generate_video(policy=None, filename=\"pendulum.mp4\", seed=0, max_steps=200):\n",
    "    # Crear entorno visualizable\n",
    "    env = gym.make(\"Pendulum-v1\", render_mode=\"rgb_array\")\n",
    "    frames = []\n",
    "\n",
    "    obs, _ = env.reset(seed=seed)\n",
    "\n",
    "    for _ in range(max_steps):\n",
    "        if policy is None:\n",
    "            action = env.action_space.sample()\n",
    "        else:\n",
    "            # Crear TimeStep desde la observación actual\n",
    "            time_step = ts.restart(tf.convert_to_tensor([obs], dtype=tf.float32))\n",
    "            action = policy.action(time_step).action.numpy()[0]\n",
    "        \n",
    "        obs, _, terminated, truncated, _ = env.step(action)\n",
    "        frames.append(env.render())\n",
    "\n",
    "        if terminated or truncated:\n",
    "            break\n",
    "\n",
    "    # Guardar video\n",
    "    path = os.path.join(video_dir, filename)\n",
    "    imageio.mimsave(path, frames, fps=30)\n",
    "    print(f\"🎥 Video guardado en: {path}\")\n"
   ]
  },
  {
   "cell_type": "code",
   "execution_count": 15,
   "id": "d59293bf",
   "metadata": {
    "execution": {
     "iopub.execute_input": "2025-07-10T14:01:12.370511Z",
     "iopub.status.busy": "2025-07-10T14:01:12.370261Z",
     "iopub.status.idle": "2025-07-10T14:01:17.016189Z",
     "shell.execute_reply": "2025-07-10T14:01:17.015125Z"
    },
    "papermill": {
     "duration": 4.659874,
     "end_time": "2025-07-10T14:01:17.017418",
     "exception": false,
     "start_time": "2025-07-10T14:01:12.357544",
     "status": "completed"
    },
    "tags": []
   },
   "outputs": [
    {
     "name": "stdout",
     "output_type": "stream",
     "text": [
      "🎥 Video guardado en: /kaggle/working/videos/ddpg_trained.mp4\n",
      "🎥 Video guardado en: /kaggle/working/videos/random_policy.mp4\n"
     ]
    }
   ],
   "source": [
    "# 🎥 Video del agente DDPG entrenado\n",
    "generate_video(policy=agent.policy, filename=\"ddpg_trained.mp4\", seed=123)\n",
    "\n",
    "# 🎥 Video con una política aleatoria\n",
    "generate_video(policy=None, filename=\"random_policy.mp4\", seed=123)\n"
   ]
  },
  {
   "cell_type": "code",
   "execution_count": 16,
   "id": "5b73dcaf",
   "metadata": {
    "execution": {
     "iopub.execute_input": "2025-07-10T14:01:17.043558Z",
     "iopub.status.busy": "2025-07-10T14:01:17.043277Z",
     "iopub.status.idle": "2025-07-10T14:01:17.048173Z",
     "shell.execute_reply": "2025-07-10T14:01:17.047476Z"
    },
    "papermill": {
     "duration": 0.018903,
     "end_time": "2025-07-10T14:01:17.049184",
     "exception": false,
     "start_time": "2025-07-10T14:01:17.030281",
     "status": "completed"
    },
    "tags": []
   },
   "outputs": [],
   "source": [
    "from IPython.display import HTML\n",
    "import base64\n",
    "\n",
    "def display_video(filename):\n",
    "    path = f\"/kaggle/working/videos/{filename}\"\n",
    "    with open(path, \"rb\") as f:\n",
    "        video_file = f.read()\n",
    "    encoded = base64.b64encode(video_file).decode(\"ascii\")\n",
    "    return HTML(f\"\"\"\n",
    "    <video width=\"480\" height=\"360\" controls>\n",
    "        <source src=\"data:video/mp4;base64,{encoded}\" type=\"video/mp4\">\n",
    "    </video>\n",
    "    \"\"\")\n"
   ]
  },
  {
   "cell_type": "code",
   "execution_count": 17,
   "id": "2f5a6c87",
   "metadata": {
    "execution": {
     "iopub.execute_input": "2025-07-10T14:01:17.075306Z",
     "iopub.status.busy": "2025-07-10T14:01:17.075100Z",
     "iopub.status.idle": "2025-07-10T14:01:17.085632Z",
     "shell.execute_reply": "2025-07-10T14:01:17.084984Z"
    },
    "papermill": {
     "duration": 0.025207,
     "end_time": "2025-07-10T14:01:17.086924",
     "exception": false,
     "start_time": "2025-07-10T14:01:17.061717",
     "status": "completed"
    },
    "tags": []
   },
   "outputs": [
    {
     "data": {
      "text/html": [
       "\n",
       "    <video width=\"480\" height=\"360\" controls>\n",
       "        <source src=\"data:video/mp4;base64,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\" type=\"video/mp4\">\n",
       "    </video>\n",
       "    "
      ],
      "text/plain": [
       "<IPython.core.display.HTML object>"
      ]
     },
     "execution_count": 17,
     "metadata": {},
     "output_type": "execute_result"
    }
   ],
   "source": [
    "# Mostrar video del agente entrenado\n",
    "display_video(\"ddpg_trained.mp4\")\n"
   ]
  },
  {
   "cell_type": "code",
   "execution_count": 18,
   "id": "41df27be",
   "metadata": {
    "execution": {
     "iopub.execute_input": "2025-07-10T14:01:17.114678Z",
     "iopub.status.busy": "2025-07-10T14:01:17.114492Z",
     "iopub.status.idle": "2025-07-10T14:01:17.121398Z",
     "shell.execute_reply": "2025-07-10T14:01:17.120710Z"
    },
    "papermill": {
     "duration": 0.022265,
     "end_time": "2025-07-10T14:01:17.122993",
     "exception": false,
     "start_time": "2025-07-10T14:01:17.100728",
     "status": "completed"
    },
    "tags": []
   },
   "outputs": [
    {
     "data": {
      "text/html": [
       "\n",
       "    <video width=\"480\" height=\"360\" controls>\n",
       "        <source src=\"data:video/mp4;base64,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\" type=\"video/mp4\">\n",
       "    </video>\n",
       "    "
      ],
      "text/plain": [
       "<IPython.core.display.HTML object>"
      ]
     },
     "execution_count": 18,
     "metadata": {},
     "output_type": "execute_result"
    }
   ],
   "source": [
    "# Mostrar video de la política aleatoria\n",
    "display_video(\"random_policy.mp4\")\n"
   ]
  },
  {
   "cell_type": "code",
   "execution_count": null,
   "id": "722af770",
   "metadata": {
    "papermill": {
     "duration": 0.015366,
     "end_time": "2025-07-10T14:01:17.154382",
     "exception": false,
     "start_time": "2025-07-10T14:01:17.139016",
     "status": "completed"
    },
    "tags": []
   },
   "outputs": [],
   "source": []
  }
 ],
 "metadata": {
  "kaggle": {
   "accelerator": "nvidiaTeslaT4",
   "dataSources": [],
   "dockerImageVersionId": 31040,
   "isGpuEnabled": true,
   "isInternetEnabled": true,
   "language": "python",
   "sourceType": "notebook"
  },
  "kernelspec": {
   "display_name": "Python 3",
   "language": "python",
   "name": "python3"
  },
  "language_info": {
   "codemirror_mode": {
    "name": "ipython",
    "version": 3
   },
   "file_extension": ".py",
   "mimetype": "text/x-python",
   "name": "python",
   "nbconvert_exporter": "python",
   "pygments_lexer": "ipython3",
   "version": "3.11.11"
  },
  "papermill": {
   "default_parameters": {},
   "duration": 2570.135209,
   "end_time": "2025-07-10T14:01:20.297539",
   "environment_variables": {},
   "exception": null,
   "input_path": "__notebook__.ipynb",
   "output_path": "__notebook__.ipynb",
   "parameters": {},
   "start_time": "2025-07-10T13:18:30.162330",
   "version": "2.6.0"
  },
  "widgets": {
   "application/vnd.jupyter.widget-state+json": {
    "state": {
     "0549619268c9497b8752ba512edb9686": {
      "model_module": "@jupyter-widgets/controls",
      "model_module_version": "2.0.0",
      "model_name": "FloatProgressModel",
      "state": {
       "_dom_classes": [],
       "_model_module": "@jupyter-widgets/controls",
       "_model_module_version": "2.0.0",
       "_model_name": "FloatProgressModel",
       "_view_count": null,
       "_view_module": "@jupyter-widgets/controls",
       "_view_module_version": "2.0.0",
       "_view_name": "ProgressView",
       "bar_style": "success",
       "description": "",
       "description_allow_html": false,
       "layout": "IPY_MODEL_4b716f5e6972494181ec80207eb384b9",
       "max": 25000.0,
       "min": 0.0,
       "orientation": "horizontal",
       "style": "IPY_MODEL_5aa145a394974d3fa010575245d7fe08",
       "tabbable": null,
       "tooltip": null,
       "value": 25000.0
      }
     },
     "22ca31751c2a4b3c848090d34631e957": {
      "model_module": "@jupyter-widgets/controls",
      "model_module_version": "2.0.0",
      "model_name": "HBoxModel",
      "state": {
       "_dom_classes": [],
       "_model_module": "@jupyter-widgets/controls",
       "_model_module_version": "2.0.0",
       "_model_name": "HBoxModel",
       "_view_count": null,
       "_view_module": "@jupyter-widgets/controls",
       "_view_module_version": "2.0.0",
       "_view_name": "HBoxView",
       "box_style": "",
       "children": [
        "IPY_MODEL_2d7376418f424daaaffe8bf797f01a55",
        "IPY_MODEL_0549619268c9497b8752ba512edb9686",
        "IPY_MODEL_a24fe08694644a93abe2ee42798d958e"
       ],
       "layout": "IPY_MODEL_76af6fee505044be860834f7b20260f5",
       "tabbable": null,
       "tooltip": null
      }
     },
     "27f20a23ee1d439e9fbb16f9f951e52e": {
      "model_module": "@jupyter-widgets/base",
      "model_module_version": "2.0.0",
      "model_name": "LayoutModel",
      "state": {
       "_model_module": "@jupyter-widgets/base",
       "_model_module_version": "2.0.0",
       "_model_name": "LayoutModel",
       "_view_count": null,
       "_view_module": "@jupyter-widgets/base",
       "_view_module_version": "2.0.0",
       "_view_name": "LayoutView",
       "align_content": null,
       "align_items": null,
       "align_self": null,
       "border_bottom": null,
       "border_left": null,
       "border_right": null,
       "border_top": null,
       "bottom": null,
       "display": null,
       "flex": null,
       "flex_flow": null,
       "grid_area": null,
       "grid_auto_columns": null,
       "grid_auto_flow": null,
       "grid_auto_rows": null,
       "grid_column": null,
       "grid_gap": null,
       "grid_row": null,
       "grid_template_areas": null,
       "grid_template_columns": null,
       "grid_template_rows": null,
       "height": null,
       "justify_content": null,
       "justify_items": null,
       "left": null,
       "margin": null,
       "max_height": null,
       "max_width": null,
       "min_height": null,
       "min_width": null,
       "object_fit": null,
       "object_position": null,
       "order": null,
       "overflow": null,
       "padding": null,
       "right": null,
       "top": null,
       "visibility": null,
       "width": null
      }
     },
     "2ac7766fec3e4ce488cfb222411e9414": {
      "model_module": "@jupyter-widgets/base",
      "model_module_version": "2.0.0",
      "model_name": "LayoutModel",
      "state": {
       "_model_module": "@jupyter-widgets/base",
       "_model_module_version": "2.0.0",
       "_model_name": "LayoutModel",
       "_view_count": null,
       "_view_module": "@jupyter-widgets/base",
       "_view_module_version": "2.0.0",
       "_view_name": "LayoutView",
       "align_content": null,
       "align_items": null,
       "align_self": null,
       "border_bottom": null,
       "border_left": null,
       "border_right": null,
       "border_top": null,
       "bottom": null,
       "display": null,
       "flex": null,
       "flex_flow": null,
       "grid_area": null,
       "grid_auto_columns": null,
       "grid_auto_flow": null,
       "grid_auto_rows": null,
       "grid_column": null,
       "grid_gap": null,
       "grid_row": null,
       "grid_template_areas": null,
       "grid_template_columns": null,
       "grid_template_rows": null,
       "height": null,
       "justify_content": null,
       "justify_items": null,
       "left": null,
       "margin": null,
       "max_height": null,
       "max_width": null,
       "min_height": null,
       "min_width": null,
       "object_fit": null,
       "object_position": null,
       "order": null,
       "overflow": null,
       "padding": null,
       "right": null,
       "top": null,
       "visibility": null,
       "width": null
      }
     },
     "2d7376418f424daaaffe8bf797f01a55": {
      "model_module": "@jupyter-widgets/controls",
      "model_module_version": "2.0.0",
      "model_name": "HTMLModel",
      "state": {
       "_dom_classes": [],
       "_model_module": "@jupyter-widgets/controls",
       "_model_module_version": "2.0.0",
       "_model_name": "HTMLModel",
       "_view_count": null,
       "_view_module": "@jupyter-widgets/controls",
       "_view_module_version": "2.0.0",
       "_view_name": "HTMLView",
       "description": "",
       "description_allow_html": false,
       "layout": "IPY_MODEL_27f20a23ee1d439e9fbb16f9f951e52e",
       "placeholder": "​",
       "style": "IPY_MODEL_efca70bddd5943a5bc838ab79c4aa7b7",
       "tabbable": null,
       "tooltip": null,
       "value": "Training DDPG Agent: 100%"
      }
     },
     "4b716f5e6972494181ec80207eb384b9": {
      "model_module": "@jupyter-widgets/base",
      "model_module_version": "2.0.0",
      "model_name": "LayoutModel",
      "state": {
       "_model_module": "@jupyter-widgets/base",
       "_model_module_version": "2.0.0",
       "_model_name": "LayoutModel",
       "_view_count": null,
       "_view_module": "@jupyter-widgets/base",
       "_view_module_version": "2.0.0",
       "_view_name": "LayoutView",
       "align_content": null,
       "align_items": null,
       "align_self": null,
       "border_bottom": null,
       "border_left": null,
       "border_right": null,
       "border_top": null,
       "bottom": null,
       "display": null,
       "flex": null,
       "flex_flow": null,
       "grid_area": null,
       "grid_auto_columns": null,
       "grid_auto_flow": null,
       "grid_auto_rows": null,
       "grid_column": null,
       "grid_gap": null,
       "grid_row": null,
       "grid_template_areas": null,
       "grid_template_columns": null,
       "grid_template_rows": null,
       "height": null,
       "justify_content": null,
       "justify_items": null,
       "left": null,
       "margin": null,
       "max_height": null,
       "max_width": null,
       "min_height": null,
       "min_width": null,
       "object_fit": null,
       "object_position": null,
       "order": null,
       "overflow": null,
       "padding": null,
       "right": null,
       "top": null,
       "visibility": null,
       "width": null
      }
     },
     "5aa145a394974d3fa010575245d7fe08": {
      "model_module": "@jupyter-widgets/controls",
      "model_module_version": "2.0.0",
      "model_name": "ProgressStyleModel",
      "state": {
       "_model_module": "@jupyter-widgets/controls",
       "_model_module_version": "2.0.0",
       "_model_name": "ProgressStyleModel",
       "_view_count": null,
       "_view_module": "@jupyter-widgets/base",
       "_view_module_version": "2.0.0",
       "_view_name": "StyleView",
       "bar_color": null,
       "description_width": ""
      }
     },
     "76af6fee505044be860834f7b20260f5": {
      "model_module": "@jupyter-widgets/base",
      "model_module_version": "2.0.0",
      "model_name": "LayoutModel",
      "state": {
       "_model_module": "@jupyter-widgets/base",
       "_model_module_version": "2.0.0",
       "_model_name": "LayoutModel",
       "_view_count": null,
       "_view_module": "@jupyter-widgets/base",
       "_view_module_version": "2.0.0",
       "_view_name": "LayoutView",
       "align_content": null,
       "align_items": null,
       "align_self": null,
       "border_bottom": null,
       "border_left": null,
       "border_right": null,
       "border_top": null,
       "bottom": null,
       "display": null,
       "flex": null,
       "flex_flow": null,
       "grid_area": null,
       "grid_auto_columns": null,
       "grid_auto_flow": null,
       "grid_auto_rows": null,
       "grid_column": null,
       "grid_gap": null,
       "grid_row": null,
       "grid_template_areas": null,
       "grid_template_columns": null,
       "grid_template_rows": null,
       "height": null,
       "justify_content": null,
       "justify_items": null,
       "left": null,
       "margin": null,
       "max_height": null,
       "max_width": null,
       "min_height": null,
       "min_width": null,
       "object_fit": null,
       "object_position": null,
       "order": null,
       "overflow": null,
       "padding": null,
       "right": null,
       "top": null,
       "visibility": null,
       "width": null
      }
     },
     "980f0383379f4b1c9a0bf4ad9526f57b": {
      "model_module": "@jupyter-widgets/controls",
      "model_module_version": "2.0.0",
      "model_name": "HTMLStyleModel",
      "state": {
       "_model_module": "@jupyter-widgets/controls",
       "_model_module_version": "2.0.0",
       "_model_name": "HTMLStyleModel",
       "_view_count": null,
       "_view_module": "@jupyter-widgets/base",
       "_view_module_version": "2.0.0",
       "_view_name": "StyleView",
       "background": null,
       "description_width": "",
       "font_size": null,
       "text_color": null
      }
     },
     "a24fe08694644a93abe2ee42798d958e": {
      "model_module": "@jupyter-widgets/controls",
      "model_module_version": "2.0.0",
      "model_name": "HTMLModel",
      "state": {
       "_dom_classes": [],
       "_model_module": "@jupyter-widgets/controls",
       "_model_module_version": "2.0.0",
       "_model_name": "HTMLModel",
       "_view_count": null,
       "_view_module": "@jupyter-widgets/controls",
       "_view_module_version": "2.0.0",
       "_view_name": "HTMLView",
       "description": "",
       "description_allow_html": false,
       "layout": "IPY_MODEL_2ac7766fec3e4ce488cfb222411e9414",
       "placeholder": "​",
       "style": "IPY_MODEL_980f0383379f4b1c9a0bf4ad9526f57b",
       "tabbable": null,
       "tooltip": null,
       "value": " 25000/25000 [40:58&lt;00:00, 11.66it/s]"
      }
     },
     "efca70bddd5943a5bc838ab79c4aa7b7": {
      "model_module": "@jupyter-widgets/controls",
      "model_module_version": "2.0.0",
      "model_name": "HTMLStyleModel",
      "state": {
       "_model_module": "@jupyter-widgets/controls",
       "_model_module_version": "2.0.0",
       "_model_name": "HTMLStyleModel",
       "_view_count": null,
       "_view_module": "@jupyter-widgets/base",
       "_view_module_version": "2.0.0",
       "_view_name": "StyleView",
       "background": null,
       "description_width": "",
       "font_size": null,
       "text_color": null
      }
     }
    },
    "version_major": 2,
    "version_minor": 0
   }
  }
 },
 "nbformat": 4,
 "nbformat_minor": 5
}
